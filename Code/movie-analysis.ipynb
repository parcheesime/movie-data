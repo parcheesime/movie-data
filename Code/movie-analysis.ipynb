{
 "cells": [
  {
   "cell_type": "markdown",
   "metadata": {},
   "source": [
    "# Udacity Data Investigation Project\n",
    "\n",
    "# Movies Dataset Investigation\n",
    "\n",
    "### Purpose\n",
    "\n",
    "Conduct data analysis on movie dataset and create a file to share that documents your findings on Udacity classroom, unit 2 Project: Investigate a Dataset.\n",
    "\n",
    "### Introduction\n",
    "\n",
    "This movie dataset was supplied by Udacity, called IMDb movie data:\n",
    "\n",
    "[IMDb movie data](https://s3.amazonaws.com/video.udacity-data.com/topher/2018/July/5b57919a_data-set-options/data-set-options.pdf)\n",
    "\n",
    "RangeIndex: 10866 entries, 0 to 10865\n",
    "\n",
    "Data columns (total 21 columns):\n",
    "\n",
    "dtypes: float64(4), int64(6), object(11)\n",
    "\n",
    "### Process\n",
    "This project uses Pandas, NumPy, Matplotlib, and other libraries to wrangle, explore, analyze and communicate data.\n",
    "\n",
    "- 3 spearate .py files for functions used in the ipynb files\n",
    "\n",
    "### Acknowledgments\n",
    "\n",
    "- Stackoverflow\n",
    "- Udacity lessons\n",
    "- Data Validation Project\n",
    "- GitHub/unionai-oss/pandera"
   ]
  },
  {
   "cell_type": "markdown",
   "metadata": {},
   "source": [
    "### Hypothesis Questions\n",
    "- What 5 year period were the most films released?\n",
    "- What years were each genre at it's highest popularity?\n",
    "- Are some genres more popular per 5 years? \n",
    "- What is the most common day of the week that a movie is released? \n",
    "- Do movies generate more revenue if they are released certain days or on a holiday?"
   ]
  },
  {
   "cell_type": "markdown",
   "metadata": {},
   "source": [
    "## Movies dataset exploration"
   ]
  },
  {
   "cell_type": "code",
   "execution_count": null,
   "metadata": {},
   "outputs": [],
   "source": [
    "# Import libraries\n",
    "import pandas as pd\n",
    "%run categories.py\n",
    "%run validate.py\n",
    "%run group.py"
   ]
  },
  {
   "cell_type": "code",
   "execution_count": null,
   "metadata": {},
   "outputs": [],
   "source": [
    "# Read csv files into dataframe, view the first few rows\n",
    "mdf=pd.read_csv('data/movies.csv')\n",
    "mdf.head()"
   ]
  },
  {
   "cell_type": "code",
   "execution_count": null,
   "metadata": {},
   "outputs": [],
   "source": [
    "mdf.tail()"
   ]
  },
  {
   "cell_type": "code",
   "execution_count": null,
   "metadata": {},
   "outputs": [],
   "source": [
    "# View data types and shape, notice missing values\n",
    "mdf.info()"
   ]
  },
  {
   "cell_type": "code",
   "execution_count": null,
   "metadata": {},
   "outputs": [],
   "source": [
    "mdf.shape"
   ]
  },
  {
   "cell_type": "code",
   "execution_count": null,
   "metadata": {},
   "outputs": [],
   "source": [
    "#Explore Data types\n",
    "mdf.dtypes"
   ]
  },
  {
   "cell_type": "code",
   "execution_count": null,
   "metadata": {},
   "outputs": [],
   "source": [
    "# View release date dtype\n",
    "mdf['release_date'].head()"
   ]
  },
  {
   "cell_type": "code",
   "execution_count": null,
   "metadata": {},
   "outputs": [],
   "source": [
    "# count unique years present in dataset\n",
    "year_count= len(list(mdf['release_year'].unique()))\n",
    "year_count"
   ]
  },
  {
   "cell_type": "code",
   "execution_count": null,
   "metadata": {},
   "outputs": [],
   "source": [
    "# View totals with missing cast\n",
    "no_cast=mdf[mdf['cast'].isna()]\n",
    "no_cast.count()"
   ]
  },
  {
   "cell_type": "code",
   "execution_count": null,
   "metadata": {},
   "outputs": [],
   "source": [
    "# Explore null values in dataset\n",
    "null_col=mdf.isnull().sum()"
   ]
  },
  {
   "cell_type": "code",
   "execution_count": null,
   "metadata": {},
   "outputs": [],
   "source": [
    "# list of all columns with null values\n",
    "all_null_col= [k for k, v in null_col.items() if v >0]\n",
    "all_null_col"
   ]
  },
  {
   "cell_type": "code",
   "execution_count": null,
   "metadata": {},
   "outputs": [],
   "source": [
    "# Find duplicate rows\n",
    "mdf[mdf.duplicated()]"
   ]
  },
  {
   "cell_type": "code",
   "execution_count": null,
   "metadata": {},
   "outputs": [],
   "source": [
    "# find all columns with multiple values | separated\n",
    "for c in list(mdf.columns):\n",
    "    v=mdf[c].iloc[0]\n",
    "    if isinstance(v, str) and '|' in v:\n",
    "        newline = '/n'\n",
    "        print(f'{c} column has multiple values:')\n",
    "        print('--------------------------------')"
   ]
  },
  {
   "cell_type": "code",
   "execution_count": null,
   "metadata": {},
   "outputs": [],
   "source": [
    "mdf['keywords'].unique()"
   ]
  },
  {
   "cell_type": "code",
   "execution_count": null,
   "metadata": {},
   "outputs": [],
   "source": [
    "mdf['genres'].unique()"
   ]
  },
  {
   "cell_type": "markdown",
   "metadata": {},
   "source": [
    "### Explore categories, popularity, revenue, and year\n",
    "\n",
    "- separate categories for production companies and genres\n",
    "- determine unique category names"
   ]
  },
  {
   "cell_type": "code",
   "execution_count": null,
   "metadata": {},
   "outputs": [],
   "source": [
    "# get list of unique genre names\n",
    "%run categories.py\n",
    "mdf['genres']= replace_pipe(mdf, 'genres')\n",
    "genre=get_unique_list(mdf, 'genres')\n",
    "len(genre)"
   ]
  },
  {
   "cell_type": "code",
   "execution_count": null,
   "metadata": {},
   "outputs": [],
   "source": [
    "# get list of unique production company names\n",
    "mdf['production_companies']= replace_pipe(mdf, 'production_companies')\n",
    "prod=get_unique_list(mdf, 'production_companies')\n",
    "len(prod)"
   ]
  },
  {
   "cell_type": "code",
   "execution_count": null,
   "metadata": {},
   "outputs": [],
   "source": [
    "# Revenue, budget\n",
    "mdf['revenue'].describe()"
   ]
  },
  {
   "cell_type": "code",
   "execution_count": null,
   "metadata": {},
   "outputs": [],
   "source": [
    "# Revenue, budget\n",
    "mdf['revenue_adj'].describe()"
   ]
  },
  {
   "cell_type": "code",
   "execution_count": null,
   "metadata": {},
   "outputs": [],
   "source": [
    "# Revenue, budget\n",
    "mdf['popularity'].describe()"
   ]
  },
  {
   "cell_type": "markdown",
   "metadata": {},
   "source": [
    "> END EXPLORE DATASET"
   ]
  },
  {
   "cell_type": "markdown",
   "metadata": {},
   "source": [
    "## Dataset wrangling and validation"
   ]
  },
  {
   "cell_type": "code",
   "execution_count": null,
   "metadata": {},
   "outputs": [],
   "source": [
    "from pandera import Column, DataFrameSchema\n",
    "pd.options.mode.chained_assignment = None  # default='warn'\n",
    "from pathlib import Path\n",
    "import yaml\n",
    "import black\n",
    "import sys\n",
    "import logging\n",
    "import numpy as np\n",
    "import pandera as pd\n",
    "%run validate.py\n",
    "%run categories.py"
   ]
  },
  {
   "cell_type": "code",
   "execution_count": null,
   "metadata": {},
   "outputs": [],
   "source": [
    "# Create schema to keep track of columns of how I want data shaped\n",
    "schema = pa.DataFrameSchema(\n",
    "    {\n",
    "    'popularity': Column(pa.Float64),\n",
    "    'budget': Column(pa.Int64),\n",
    "    'revenue': Column(pa.Int64),\n",
    "    'net' : Column(pa.Int64),\n",
    "    'original_title': Column(pa.String), \n",
    "    'director': Column(pa.String),\n",
    "    'runtime': Column(pa.Int64),\n",
    "    'action': Column(pa.Int),\n",
    "    'adventure': Column(pa.Int),\n",
    "    'animation': Column(pa.Int),\n",
    "    'comedy': Column(pa.Int),\n",
    "    'crime': Column(pa.Int),\n",
    "    'documentary': Column(pa.Int),\n",
    "    'drama': Column(pa.Int),\n",
    "    'family': Column(pa.Int),\n",
    "    'fantasy': Column(pa.Int),\n",
    "    'foreign': Column(pa.Int),\n",
    "    'history': Column(pa.Int),\n",
    "    'horror': Column(pa.Int),\n",
    "    'music': Column(pa.Int),\n",
    "    'mystery': Column(pa.Int),\n",
    "    'romance': Column(pa.Int),\n",
    "    'science_fiction': Column(pa.Int),\n",
    "    'tv_movie': Column(pa.Int),\n",
    "    'thriller': Column(pa.Int),\n",
    "    'war': Column(pa.Int),\n",
    "    'western': Column(pa.Int),\n",
    "    'no_genre' : Column(pa.Int),\n",
    "    'production_companies': Column(pa.String),\n",
    "    'release_date': Column(pa.DateTime),\n",
    "    'release_day' : Column(pa.String),\n",
    "    'holiday' : Column(pa.Bool),\n",
    "    'vote_count': Column(pa.Int64),\n",
    "    'vote_average': Column(pa.Float64),\n",
    "    'release_year': Column(pa.Int64),\n",
    "    'release_year_groups' : Column(pa.Category),\n",
    "    'budget_adj' : Column(pa.Float64),\n",
    "    'revenue_adj' : Column(pa.Float64),\n",
    "    'net_adj' : Column(pa.Float64)\n",
    "}\n",
    "\n",
    ")"
   ]
  },
  {
   "cell_type": "code",
   "execution_count": null,
   "metadata": {},
   "outputs": [],
   "source": [
    "# Put Schema into YAML file\n",
    "yaml_sche = schema.to_yaml()\n",
    "f = Path('file.yml')\n",
    "f.touch()\n",
    "f.write_text(yaml_sche)"
   ]
  },
  {
   "cell_type": "code",
   "execution_count": null,
   "metadata": {},
   "outputs": [],
   "source": [
    "# open the yaml file\n",
    "with open('file.yml', 'r') as f:\n",
    "    file = yaml.safe_load(f)"
   ]
  },
  {
   "cell_type": "code",
   "execution_count": null,
   "metadata": {},
   "outputs": [],
   "source": [
    "# check for duplicates\n",
    "mdf[mdf.duplicated()]"
   ]
  },
  {
   "cell_type": "code",
   "execution_count": null,
   "metadata": {},
   "outputs": [],
   "source": [
    "# drop dulicates\n",
    "mdf.drop_duplicates()"
   ]
  },
  {
   "cell_type": "code",
   "execution_count": null,
   "metadata": {},
   "outputs": [],
   "source": [
    "# change NaN to Independent in production companies column\n",
    "mdf['production_companies']=mdf['production_companies'].replace(np.nan,'Independent')\n",
    "mdf.info()"
   ]
  },
  {
   "cell_type": "code",
   "execution_count": null,
   "metadata": {},
   "outputs": [],
   "source": [
    "# run column validation\n",
    "col_val(mdf)"
   ]
  },
  {
   "cell_type": "code",
   "execution_count": null,
   "metadata": {},
   "outputs": [],
   "source": [
    "# Remove columns from movies dataframe that will not be used in analysis and is not in the schema\n",
    "# leave genres in for now\n",
    "mdf= mdf.drop(['budget', 'revenue', 'overview', 'imdb_id', 'tagline', 'id', 'homepage', 'cast', 'keywords'], axis=1)     "
   ]
  },
  {
   "cell_type": "code",
   "execution_count": null,
   "metadata": {},
   "outputs": [],
   "source": [
    "mdf.info()"
   ]
  },
  {
   "cell_type": "code",
   "execution_count": null,
   "metadata": {},
   "outputs": [],
   "source": [
    "# check columns\n",
    "col_val(mdf)"
   ]
  },
  {
   "cell_type": "markdown",
   "metadata": {},
   "source": [
    "Leave genres for now, begin adding columns for analysis."
   ]
  },
  {
   "cell_type": "code",
   "execution_count": null,
   "metadata": {},
   "outputs": [],
   "source": [
    "# Add columns to movies dataframe that are in the schema\n",
    "mdf['net_adj'] = mdf['revenue_adj']-mdf['budget_adj']"
   ]
  },
  {
   "cell_type": "markdown",
   "metadata": {},
   "source": [
    "Separating Categories from genres columns\n",
    "\n",
    "- separate categories in genres\n",
    "- create new columns for genres using 0, 1"
   ]
  },
  {
   "cell_type": "code",
   "execution_count": null,
   "metadata": {},
   "outputs": [],
   "source": [
    "# replace | with ,\n",
    "mdf['genres']=replace_pipe(mdf, 'genres')"
   ]
  },
  {
   "cell_type": "code",
   "execution_count": null,
   "metadata": {},
   "outputs": [],
   "source": [
    "# List of unique genres\n",
    "u_g=get_unique_list(mdf, 'genres')\n",
    "len(u_g)"
   ]
  },
  {
   "cell_type": "code",
   "execution_count": null,
   "metadata": {},
   "outputs": [],
   "source": [
    "# add new genre columns to mdf, set all values to zero\n",
    "mdf=insert_zero(mdf, u_g)"
   ]
  },
  {
   "cell_type": "code",
   "execution_count": null,
   "metadata": {},
   "outputs": [],
   "source": [
    "# Change new column value to 1 if category is present in old column. \n",
    "for g in u_g:\n",
    "    category_present(mdf, 'genres', g)"
   ]
  },
  {
   "cell_type": "code",
   "execution_count": null,
   "metadata": {},
   "outputs": [],
   "source": [
    "# Schema check\n",
    "%run validate.py\n",
    "col_val(mdf)"
   ]
  },
  {
   "cell_type": "code",
   "execution_count": null,
   "metadata": {},
   "outputs": [],
   "source": [
    "# drop old genres\n",
    "mdf.drop(['genres'], axis=1, inplace=True)"
   ]
  },
  {
   "cell_type": "code",
   "execution_count": null,
   "metadata": {},
   "outputs": [],
   "source": [
    "# rename nan\n",
    "mdf.rename(columns = {'nan':'no_genre'}, inplace = True)"
   ]
  },
  {
   "cell_type": "code",
   "execution_count": null,
   "metadata": {},
   "outputs": [],
   "source": [
    "# Infor check\n",
    "mdf.info()"
   ]
  },
  {
   "cell_type": "code",
   "execution_count": null,
   "metadata": {},
   "outputs": [],
   "source": [
    "# column name check\n",
    "col_val(mdf)"
   ]
  },
  {
   "cell_type": "markdown",
   "metadata": {},
   "source": [
    "### Clean-Shape Dates \n",
    "- Change release_date to datetime\n",
    "- Add release days and holidays columns\n",
    "- Get 5 year categories for release years"
   ]
  },
  {
   "cell_type": "code",
   "execution_count": null,
   "metadata": {},
   "outputs": [],
   "source": [
    "# Fixing dates in release date column to yyyy-mm-dd\n",
    "# split of the values in release_day column to 3 seperate columns\n",
    "date_fix=mdf['release_date'].str.split('/', expand=True)\n",
    "\n",
    "# 0-month, 1-day, 2-year\n",
    "# fill zeros for month and day\n",
    "date_fix[0]=date_fix[0].str.zfill(2)\n",
    "date_fix[1]=date_fix[1].str.zfill(2)"
   ]
  },
  {
   "cell_type": "code",
   "execution_count": null,
   "metadata": {},
   "outputs": [],
   "source": [
    "# Fix yyyy format column\n",
    "date_fix[2]=date_fix[2].astype(int)\n",
    "# iterate over value and create yyyy\n",
    "for k, v in date_fix[2].iteritems():\n",
    "    if v in range(0, 22):\n",
    "        date_fix[2].iloc[k]=v+2000\n",
    "    else:\n",
    "        date_fix[2].iloc[k]=v+1900\n",
    "       \n",
    "date_fix[2]=date_fix[2].astype(str)"
   ]
  },
  {
   "cell_type": "code",
   "execution_count": null,
   "metadata": {},
   "outputs": [],
   "source": [
    "# bring the dates back together\n",
    "date_fix['new']= date_fix[2]+date_fix[0]+date_fix[1]\n",
    "# view one of the rows\n",
    "date_fix['new'][9]"
   ]
  },
  {
   "cell_type": "code",
   "execution_count": null,
   "metadata": {},
   "outputs": [],
   "source": [
    "# change new column to datetime format\n",
    "date_new=pd.to_datetime(date_fix['new'])\n",
    "date_new.info"
   ]
  },
  {
   "cell_type": "code",
   "execution_count": null,
   "metadata": {},
   "outputs": [],
   "source": [
    "# replace release date column in new datetime format\n",
    "mdf['release_date']=date_new\n",
    "mdf['release_date']"
   ]
  },
  {
   "cell_type": "code",
   "execution_count": null,
   "metadata": {},
   "outputs": [],
   "source": [
    "# dataframe check\n",
    "mdf.info()"
   ]
  },
  {
   "cell_type": "code",
   "execution_count": null,
   "metadata": {},
   "outputs": [],
   "source": [
    "# drop null values for director\n",
    "# Drop rows if value in director column is null\n",
    "mdf=mdf.dropna(subset=['director'])\n",
    "mdf.info()"
   ]
  },
  {
   "cell_type": "code",
   "execution_count": null,
   "metadata": {},
   "outputs": [],
   "source": [
    "col_val(mdf)"
   ]
  },
  {
   "cell_type": "code",
   "execution_count": null,
   "metadata": {},
   "outputs": [],
   "source": [
    "# run datatype validation\n",
    "dtype_val(mdf)"
   ]
  },
  {
   "cell_type": "code",
   "execution_count": null,
   "metadata": {},
   "outputs": [],
   "source": [
    "# New release day column, indicates day of the week the movie was released\n",
    "mdf['release_day']=pd.to_datetime(mdf['release_date']).dt.day_name()"
   ]
  },
  {
   "cell_type": "code",
   "execution_count": null,
   "metadata": {},
   "outputs": [],
   "source": [
    "# Create holiday column to indicate if the release day was a holiday\n",
    "from pandas.tseries.holiday import USFederalHolidayCalendar as calendar\n",
    "cal=calendar()\n",
    "holidays=cal.holidays(start=mdf['release_date'].min(), end=mdf['release_date'].max())\n",
    "mdf['holiday'] = mdf['release_date'].isin(holidays)"
   ]
  },
  {
   "cell_type": "code",
   "execution_count": null,
   "metadata": {},
   "outputs": [],
   "source": [
    "# just curious, checkout holiday count\n",
    "mdf['holiday'].value_counts()"
   ]
  },
  {
   "cell_type": "code",
   "execution_count": null,
   "metadata": {},
   "outputs": [],
   "source": [
    "# Add release year grouping, evey 5 years\n",
    "mdf['release_year_groups'] = pd.cut(mdf['release_year'], 11)\n",
    "mdf['release_year_groups']"
   ]
  },
  {
   "cell_type": "code",
   "execution_count": null,
   "metadata": {},
   "outputs": [],
   "source": [
    "# columns check\n",
    "col_val(mdf)"
   ]
  },
  {
   "cell_type": "code",
   "execution_count": null,
   "metadata": {},
   "outputs": [],
   "source": [
    "# run datatype validation\n",
    "dtype_val(mdf)"
   ]
  },
  {
   "cell_type": "code",
   "execution_count": null,
   "metadata": {},
   "outputs": [],
   "source": [
    "# put reshaped dataframe into out.csv\n",
    "mdf.to_csv('out.csv')"
   ]
  },
  {
   "cell_type": "code",
   "execution_count": null,
   "metadata": {},
   "outputs": [],
   "source": [
    "# read new out csv file, view columns\n",
    "out=pd.read_csv('out.csv', index_col=[0])\n",
    "out.columns"
   ]
  },
  {
   "cell_type": "markdown",
   "metadata": {},
   "source": [
    "## Visualizing  and Analyzing the Movies Dataset\n",
    "\n",
    "- What 5 year period were the most films released?\n",
    "- Are some genres more popular per 5 years? \n",
    "- What is the most common day of the week that a movie is released? \n",
    "- Do movies generate more revenue if they are released certain days or on a holiday?"
   ]
  },
  {
   "cell_type": "code",
   "execution_count": null,
   "metadata": {},
   "outputs": [],
   "source": [
    "import pandas as pd\n",
    "import numpy as np\n",
    "import matplotlib.pyplot as plt\n",
    "import seaborn as sns\n",
    "%run group.py\n",
    "df=pd.read_csv('out.csv')"
   ]
  },
  {
   "cell_type": "markdown",
   "metadata": {},
   "source": [
    "Most movies are released in 2010-2015"
   ]
  },
  {
   "cell_type": "code",
   "execution_count": null,
   "metadata": {},
   "outputs": [],
   "source": [
    "# View plot of release year count\n",
    "df['release_year'].value_counts().plot(title='Number of Films Released between 1959-2015');"
   ]
  },
  {
   "cell_type": "markdown",
   "metadata": {},
   "source": [
    "2010-2015 had the most released films, 3099, for this dataset that spans 56 years."
   ]
  },
  {
   "cell_type": "code",
   "execution_count": null,
   "metadata": {},
   "outputs": [],
   "source": [
    "df['release_year_groups'].value_counts()"
   ]
  },
  {
   "cell_type": "code",
   "execution_count": null,
   "metadata": {},
   "outputs": [],
   "source": [
    "df['release_year_groups'].value_counts().plot.pie(title='Film % totals: 5 Year Groups',figsize=(7, 7),autopct='%1.1f%%', label='');"
   ]
  },
  {
   "cell_type": "markdown",
   "metadata": {},
   "source": [
    "### Movie Genre Analysis\n",
    "Note: All movie genres, per movie, were included with this analysis."
   ]
  },
  {
   "cell_type": "code",
   "execution_count": null,
   "metadata": {},
   "outputs": [],
   "source": [
    "# get lists of unique genres and unique 5 year groups\n",
    "genres_list=['action','adventure','animation','comedy','crime','documentary','drama','family','fantasy','foreign','history','horror','music','mystery','romance','science_fiction','tv_movie','thriller','war','western']\n",
    "release_year_groups_list=df['release_year_groups'].unique().tolist()\n",
    "release_year_groups_list"
   ]
  },
  {
   "cell_type": "markdown",
   "metadata": {},
   "source": [
    "### Genre-year category analysis"
   ]
  },
  {
   "cell_type": "code",
   "execution_count": null,
   "metadata": {},
   "outputs": [],
   "source": [
    "# get function to make year-genre dataframes\n",
    "def dict(yrgp):\n",
    "    d=[]\n",
    "    for g in genres_list:\n",
    "        sum=df.loc[df['release_year_groups']==yrgp][g].sum()\n",
    "        d.append({\n",
    "            'year category': yrgp, 'genre': g, 'sums': sum\n",
    "        })\n",
    "    return pd.DataFrame(d)\n",
    "    "
   ]
  },
  {
   "cell_type": "code",
   "execution_count": null,
   "metadata": {},
   "outputs": [],
   "source": [
    "# make a list of dataframes\n",
    "dlist = [ dict(yrgp) for yrgp in release_year_groups_list]\n"
   ]
  },
  {
   "cell_type": "markdown",
   "metadata": {},
   "source": [
    "### Drama was the most common type of genre film made in all year categories except for 1985-1990, which was Comedy."
   ]
  },
  {
   "cell_type": "code",
   "execution_count": null,
   "metadata": {},
   "outputs": [],
   "source": [
    "# Genreate bar charts for most common genre per year category\n",
    "i=0\n",
    "for d in dlist:\n",
    "    title=dlist[i]['year category'][1]\n",
    "    max=d['genre'][d['sums'].idxmax()]\n",
    "    dlist[i].plot(kind='bar', x='genre', y='sums', title=title);\n",
    "    print(f'{title} most common genre: {max}')\n",
    "    i=i+1"
   ]
  },
  {
   "cell_type": "markdown",
   "metadata": {},
   "source": [
    "### Finding Genre best appearance per year"
   ]
  },
  {
   "cell_type": "code",
   "execution_count": null,
   "metadata": {},
   "outputs": [],
   "source": [
    "# max number of movies released per genre \n",
    "row_list=[max_genre_by_year(g) for g in genres_list]\n",
    "genre_max=pd.DataFrame(row_list, columns=['genres', 'max_released', 'release year'])"
   ]
  },
  {
   "cell_type": "markdown",
   "metadata": {},
   "source": [
    "Year Categories 2010-2015, 2005-2010, 1965-1970 are where we find genre best appearance years."
   ]
  },
  {
   "cell_type": "code",
   "execution_count": null,
   "metadata": {},
   "outputs": [],
   "source": [
    "genre_max_s=genre_max.groupby(['release year']).size()\n",
    "genre_max_s.plot.pie(title='Max Movies made per Genre/5 Years', label='');"
   ]
  },
  {
   "cell_type": "markdown",
   "metadata": {},
   "source": [
    "- 14 Genres had most appearacnes between 2010-2015"
   ]
  },
  {
   "cell_type": "code",
   "execution_count": null,
   "metadata": {},
   "outputs": [],
   "source": [
    "genre_max.loc[genre_max['release year']=='(2010.0, 2015.0]']"
   ]
  },
  {
   "cell_type": "markdown",
   "metadata": {},
   "source": [
    "- 5 genres, Family, Fantasy, History and Romance Genres had their best showing between 2005-2010"
   ]
  },
  {
   "cell_type": "code",
   "execution_count": null,
   "metadata": {},
   "outputs": [],
   "source": [
    "genre_max.loc[genre_max['release year']=='(2005.0, 2010.0]']"
   ]
  },
  {
   "cell_type": "markdown",
   "metadata": {},
   "source": [
    "- Western Movie Genre had it's best showing between 1965-1970"
   ]
  },
  {
   "cell_type": "code",
   "execution_count": null,
   "metadata": {},
   "outputs": [],
   "source": [
    "genre_max.loc[genre_max['release year']=='(1965.0, 1970.0]']"
   ]
  },
  {
   "cell_type": "markdown",
   "metadata": {},
   "source": [
    "## Days of Week Released and Adjusted Revenue\n",
    "- Friday is the most popular day for a movie to be released.\n",
    "- Movies released on Wednesday have highest average adjusted revenue."
   ]
  },
  {
   "cell_type": "code",
   "execution_count": null,
   "metadata": {},
   "outputs": [],
   "source": [
    "# Get number of films released, by day of the week.\n",
    "df.groupby(['release_day']).size().plot(kind='bar', title='Number of Movies Released per Day of the Week');"
   ]
  },
  {
   "cell_type": "code",
   "execution_count": null,
   "metadata": {},
   "outputs": [],
   "source": [
    "df.groupby(['release_day'])['revenue_adj'].mean()"
   ]
  },
  {
   "cell_type": "markdown",
   "metadata": {},
   "source": [
    "### Movies released on Wednesday have highest average adjusted revenue."
   ]
  },
  {
   "cell_type": "code",
   "execution_count": null,
   "metadata": {},
   "outputs": [],
   "source": [
    "# Plot Average Adjusted Revenueper Day of Week - Movie Release\n",
    "df.groupby(['release_day'])['revenue_adj'].mean().plot(kind='bar', title='Average Adjusted Revenue per Day of the Week');"
   ]
  },
  {
   "cell_type": "markdown",
   "metadata": {},
   "source": [
    "### Highest Adjusted Revenue Movie"
   ]
  },
  {
   "cell_type": "code",
   "execution_count": null,
   "metadata": {},
   "outputs": [],
   "source": [
    "df.loc[df['revenue_adj'].idxmax(), ['original_title']]"
   ]
  },
  {
   "cell_type": "markdown",
   "metadata": {},
   "source": [
    "## Holidays\n",
    "- Most Holidays a movie was released land on Monday\n",
    "- Highest Adjusted Revenue Holiday-days are Tuesdays"
   ]
  },
  {
   "cell_type": "code",
   "execution_count": null,
   "metadata": {},
   "outputs": [],
   "source": [
    "# Display Days of Week totlals, if it's a Holiday\n",
    "holiday=df[df['holiday']==True]\n",
    "holiday.groupby(['release_day']).size().plot(kind='bar', title='Holiday count by Week day');"
   ]
  },
  {
   "cell_type": "code",
   "execution_count": null,
   "metadata": {},
   "outputs": [],
   "source": [
    "# Determine Ave Revenue Generated on Holidays\n",
    "holiday.groupby(['release_day'])['revenue_adj'].mean()"
   ]
  },
  {
   "cell_type": "markdown",
   "metadata": {},
   "source": [
    "### Highest Adjusted Revenue Holiday-days are Tuesdays"
   ]
  },
  {
   "cell_type": "code",
   "execution_count": null,
   "metadata": {},
   "outputs": [],
   "source": [
    "holiday.groupby(['release_day'])['revenue_adj'].mean().plot(kind='bar', title='Holiday Release Day Average Adjusted Revenue');"
   ]
  },
  {
   "cell_type": "markdown",
   "metadata": {},
   "source": [
    "### Conclusion\n",
    "- Most Films were released during the 2010-2015 years for this dataset.\n",
    "- Year Categories 2010-2015, 2005-2010, 1965-1970 are where we find genre best appearance years.\n",
    "- Western movies had the highest showing during 1965-9170\n",
    "- Drama was the most common type of genre film made in all year categories except for 1985-1990, which was Comedy. \n",
    "- Friday is the most common day of the week that a movie is released \n",
    "- Movies generate more revenue if they are released on a Wednesday, according to this dataset.\n",
    "- Avatar was the highest Adjusted Revenue for this movie dataset."
   ]
  },
  {
   "cell_type": "markdown",
   "metadata": {},
   "source": [
    "Limitations:\n",
    "- Even though I made some functions to deal with the categories within categories for genres, it was difficult.\n",
    "- Because some columns had multiple categories within one category, I decided to focus on genres.\n",
    "- Some columns, cast, keywords, homepage, etc...had quite a bit of missing data, so I chose to not include it in the analysis.\n",
    "- I imagine revenue is skewed due to some movies showing zero dollars.\n",
    "- Changing the release date to datetime was challenging, splitting the columns, adding zeros and putting it all back together again."
   ]
  },
  {
   "cell_type": "markdown",
   "metadata": {},
   "source": [
    "Final Thoughts:\n",
    "- I was surprised that the most common movie genre is Drama\n",
    "- Movies released on Wednesday have highest average adjusted revenue was surprising too.\n",
    "- I enjoy data collection, data cleaning, wrangling and validation.\n",
    "- I would like to learn more about working with schemas.\n",
    "- I enjoy working with categorical data, and is why I chose the movie dataset."
   ]
  }
 ],
 "metadata": {
  "kernelspec": {
   "display_name": "Python 3 (ipykernel)",
   "language": "python",
   "name": "python3"
  },
  "language_info": {
   "codemirror_mode": {
    "name": "ipython",
    "version": 3
   },
   "file_extension": ".py",
   "mimetype": "text/x-python",
   "name": "python",
   "nbconvert_exporter": "python",
   "pygments_lexer": "ipython3",
   "version": "3.9.13"
  },
  "vscode": {
   "interpreter": {
    "hash": "8ad3b4ca62056b0ddf6609e8c0d475b5225220fb28d68e3e23627eb1e1c7d9eb"
   }
  }
 },
 "nbformat": 4,
 "nbformat_minor": 2
}
