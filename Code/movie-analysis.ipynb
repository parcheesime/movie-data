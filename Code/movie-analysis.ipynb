{
 "cells": [
  {
   "cell_type": "markdown",
   "metadata": {},
   "source": [
    "# Udacity Data Investigation Project\n",
    "\n",
    "# Movies Dataset Investigation\n",
    "\n",
    "### Purpose\n",
    "\n",
    "Conduct data analysis on movie dataset and create a file to share that documents your findings on Udacity classroom, unit 2 Project: Investigate a Dataset.\n",
    "\n",
    "### Introduction\n",
    "\n",
    "This movie dataset was supplied by Udacity, called IMDb movie data:\n",
    "\n",
    "[IMDb movie data](https://s3.amazonaws.com/video.udacity-data.com/topher/2018/July/5b57919a_data-set-options/data-set-options.pdf)\n",
    "\n",
    "RangeIndex: 10866 entries, 0 to 10865\n",
    "\n",
    "Data columns (total 21 columns):\n",
    "\n",
    "dtypes: float64(4), int64(6), object(11)\n",
    "\n",
    "### Process\n",
    "This project uses Pandas, NumPy, Matplotlib, and other libraries to wrangle, explore, analyze and communicate data.\n",
    "\n",
    "- 3 separate jupyter notebook files\n",
    "- 3 spearate .py files for function used in the ipynb files\n",
    "\n",
    "### Acknowledgments\n",
    "\n",
    "- Stackoverflow\n",
    "- Udacity lessons\n",
    "- Data Validation Project\n",
    "- GitHub/unionai-oss/pandera"
   ]
  },
  {
   "cell_type": "markdown",
   "metadata": {},
   "source": [
    "### Hypothesis Questions\n",
    "- What 5 year period were the most films released?\n",
    "- What years were each genre at it's highest popularity?\n",
    "- Are some genres more popular per 5 years? \n",
    "- What genre generates the most money?\n",
    "- What is the most common day of the week that a movie is released? \n",
    "- Do movies generate more revenue if they are released certain days or on a holiday?"
   ]
  },
  {
   "cell_type": "markdown",
   "metadata": {},
   "source": [
    "## Movies dataset exploration"
   ]
  },
  {
   "cell_type": "code",
   "execution_count": 1,
   "metadata": {},
   "outputs": [],
   "source": [
    "# Import libraries\n",
    "import pandas as pd"
   ]
  },
  {
   "cell_type": "code",
   "execution_count": 2,
   "metadata": {},
   "outputs": [
    {
     "data": {
      "text/html": [
       "<div>\n",
       "<style scoped>\n",
       "    .dataframe tbody tr th:only-of-type {\n",
       "        vertical-align: middle;\n",
       "    }\n",
       "\n",
       "    .dataframe tbody tr th {\n",
       "        vertical-align: top;\n",
       "    }\n",
       "\n",
       "    .dataframe thead th {\n",
       "        text-align: right;\n",
       "    }\n",
       "</style>\n",
       "<table border=\"1\" class=\"dataframe\">\n",
       "  <thead>\n",
       "    <tr style=\"text-align: right;\">\n",
       "      <th></th>\n",
       "      <th>id</th>\n",
       "      <th>imdb_id</th>\n",
       "      <th>popularity</th>\n",
       "      <th>budget</th>\n",
       "      <th>revenue</th>\n",
       "      <th>original_title</th>\n",
       "      <th>cast</th>\n",
       "      <th>homepage</th>\n",
       "      <th>director</th>\n",
       "      <th>tagline</th>\n",
       "      <th>...</th>\n",
       "      <th>overview</th>\n",
       "      <th>runtime</th>\n",
       "      <th>genres</th>\n",
       "      <th>production_companies</th>\n",
       "      <th>release_date</th>\n",
       "      <th>vote_count</th>\n",
       "      <th>vote_average</th>\n",
       "      <th>release_year</th>\n",
       "      <th>budget_adj</th>\n",
       "      <th>revenue_adj</th>\n",
       "    </tr>\n",
       "  </thead>\n",
       "  <tbody>\n",
       "    <tr>\n",
       "      <th>0</th>\n",
       "      <td>135397</td>\n",
       "      <td>tt0369610</td>\n",
       "      <td>32.985763</td>\n",
       "      <td>150000000</td>\n",
       "      <td>1513528810</td>\n",
       "      <td>Jurassic World</td>\n",
       "      <td>Chris Pratt|Bryce Dallas Howard|Irrfan Khan|Vi...</td>\n",
       "      <td>http://www.jurassicworld.com/</td>\n",
       "      <td>Colin Trevorrow</td>\n",
       "      <td>The park is open.</td>\n",
       "      <td>...</td>\n",
       "      <td>Twenty-two years after the events of Jurassic ...</td>\n",
       "      <td>124</td>\n",
       "      <td>Action|Adventure|Science Fiction|Thriller</td>\n",
       "      <td>Universal Studios|Amblin Entertainment|Legenda...</td>\n",
       "      <td>6/9/15</td>\n",
       "      <td>5562</td>\n",
       "      <td>6.5</td>\n",
       "      <td>2015</td>\n",
       "      <td>1.379999e+08</td>\n",
       "      <td>1.392446e+09</td>\n",
       "    </tr>\n",
       "    <tr>\n",
       "      <th>1</th>\n",
       "      <td>76341</td>\n",
       "      <td>tt1392190</td>\n",
       "      <td>28.419936</td>\n",
       "      <td>150000000</td>\n",
       "      <td>378436354</td>\n",
       "      <td>Mad Max: Fury Road</td>\n",
       "      <td>Tom Hardy|Charlize Theron|Hugh Keays-Byrne|Nic...</td>\n",
       "      <td>http://www.madmaxmovie.com/</td>\n",
       "      <td>George Miller</td>\n",
       "      <td>What a Lovely Day.</td>\n",
       "      <td>...</td>\n",
       "      <td>An apocalyptic story set in the furthest reach...</td>\n",
       "      <td>120</td>\n",
       "      <td>Action|Adventure|Science Fiction|Thriller</td>\n",
       "      <td>Village Roadshow Pictures|Kennedy Miller Produ...</td>\n",
       "      <td>5/13/15</td>\n",
       "      <td>6185</td>\n",
       "      <td>7.1</td>\n",
       "      <td>2015</td>\n",
       "      <td>1.379999e+08</td>\n",
       "      <td>3.481613e+08</td>\n",
       "    </tr>\n",
       "    <tr>\n",
       "      <th>2</th>\n",
       "      <td>262500</td>\n",
       "      <td>tt2908446</td>\n",
       "      <td>13.112507</td>\n",
       "      <td>110000000</td>\n",
       "      <td>295238201</td>\n",
       "      <td>Insurgent</td>\n",
       "      <td>Shailene Woodley|Theo James|Kate Winslet|Ansel...</td>\n",
       "      <td>http://www.thedivergentseries.movie/#insurgent</td>\n",
       "      <td>Robert Schwentke</td>\n",
       "      <td>One Choice Can Destroy You</td>\n",
       "      <td>...</td>\n",
       "      <td>Beatrice Prior must confront her inner demons ...</td>\n",
       "      <td>119</td>\n",
       "      <td>Adventure|Science Fiction|Thriller</td>\n",
       "      <td>Summit Entertainment|Mandeville Films|Red Wago...</td>\n",
       "      <td>3/18/15</td>\n",
       "      <td>2480</td>\n",
       "      <td>6.3</td>\n",
       "      <td>2015</td>\n",
       "      <td>1.012000e+08</td>\n",
       "      <td>2.716190e+08</td>\n",
       "    </tr>\n",
       "    <tr>\n",
       "      <th>3</th>\n",
       "      <td>140607</td>\n",
       "      <td>tt2488496</td>\n",
       "      <td>11.173104</td>\n",
       "      <td>200000000</td>\n",
       "      <td>2068178225</td>\n",
       "      <td>Star Wars: The Force Awakens</td>\n",
       "      <td>Harrison Ford|Mark Hamill|Carrie Fisher|Adam D...</td>\n",
       "      <td>http://www.starwars.com/films/star-wars-episod...</td>\n",
       "      <td>J.J. Abrams</td>\n",
       "      <td>Every generation has a story.</td>\n",
       "      <td>...</td>\n",
       "      <td>Thirty years after defeating the Galactic Empi...</td>\n",
       "      <td>136</td>\n",
       "      <td>Action|Adventure|Science Fiction|Fantasy</td>\n",
       "      <td>Lucasfilm|Truenorth Productions|Bad Robot</td>\n",
       "      <td>12/15/15</td>\n",
       "      <td>5292</td>\n",
       "      <td>7.5</td>\n",
       "      <td>2015</td>\n",
       "      <td>1.839999e+08</td>\n",
       "      <td>1.902723e+09</td>\n",
       "    </tr>\n",
       "    <tr>\n",
       "      <th>4</th>\n",
       "      <td>168259</td>\n",
       "      <td>tt2820852</td>\n",
       "      <td>9.335014</td>\n",
       "      <td>190000000</td>\n",
       "      <td>1506249360</td>\n",
       "      <td>Furious 7</td>\n",
       "      <td>Vin Diesel|Paul Walker|Jason Statham|Michelle ...</td>\n",
       "      <td>http://www.furious7.com/</td>\n",
       "      <td>James Wan</td>\n",
       "      <td>Vengeance Hits Home</td>\n",
       "      <td>...</td>\n",
       "      <td>Deckard Shaw seeks revenge against Dominic Tor...</td>\n",
       "      <td>137</td>\n",
       "      <td>Action|Crime|Thriller</td>\n",
       "      <td>Universal Pictures|Original Film|Media Rights ...</td>\n",
       "      <td>4/1/15</td>\n",
       "      <td>2947</td>\n",
       "      <td>7.3</td>\n",
       "      <td>2015</td>\n",
       "      <td>1.747999e+08</td>\n",
       "      <td>1.385749e+09</td>\n",
       "    </tr>\n",
       "  </tbody>\n",
       "</table>\n",
       "<p>5 rows × 21 columns</p>\n",
       "</div>"
      ],
      "text/plain": [
       "       id    imdb_id  popularity     budget     revenue  \\\n",
       "0  135397  tt0369610   32.985763  150000000  1513528810   \n",
       "1   76341  tt1392190   28.419936  150000000   378436354   \n",
       "2  262500  tt2908446   13.112507  110000000   295238201   \n",
       "3  140607  tt2488496   11.173104  200000000  2068178225   \n",
       "4  168259  tt2820852    9.335014  190000000  1506249360   \n",
       "\n",
       "                 original_title  \\\n",
       "0                Jurassic World   \n",
       "1            Mad Max: Fury Road   \n",
       "2                     Insurgent   \n",
       "3  Star Wars: The Force Awakens   \n",
       "4                     Furious 7   \n",
       "\n",
       "                                                cast  \\\n",
       "0  Chris Pratt|Bryce Dallas Howard|Irrfan Khan|Vi...   \n",
       "1  Tom Hardy|Charlize Theron|Hugh Keays-Byrne|Nic...   \n",
       "2  Shailene Woodley|Theo James|Kate Winslet|Ansel...   \n",
       "3  Harrison Ford|Mark Hamill|Carrie Fisher|Adam D...   \n",
       "4  Vin Diesel|Paul Walker|Jason Statham|Michelle ...   \n",
       "\n",
       "                                            homepage          director  \\\n",
       "0                      http://www.jurassicworld.com/   Colin Trevorrow   \n",
       "1                        http://www.madmaxmovie.com/     George Miller   \n",
       "2     http://www.thedivergentseries.movie/#insurgent  Robert Schwentke   \n",
       "3  http://www.starwars.com/films/star-wars-episod...       J.J. Abrams   \n",
       "4                           http://www.furious7.com/         James Wan   \n",
       "\n",
       "                         tagline  ...  \\\n",
       "0              The park is open.  ...   \n",
       "1             What a Lovely Day.  ...   \n",
       "2     One Choice Can Destroy You  ...   \n",
       "3  Every generation has a story.  ...   \n",
       "4            Vengeance Hits Home  ...   \n",
       "\n",
       "                                            overview runtime  \\\n",
       "0  Twenty-two years after the events of Jurassic ...     124   \n",
       "1  An apocalyptic story set in the furthest reach...     120   \n",
       "2  Beatrice Prior must confront her inner demons ...     119   \n",
       "3  Thirty years after defeating the Galactic Empi...     136   \n",
       "4  Deckard Shaw seeks revenge against Dominic Tor...     137   \n",
       "\n",
       "                                      genres  \\\n",
       "0  Action|Adventure|Science Fiction|Thriller   \n",
       "1  Action|Adventure|Science Fiction|Thriller   \n",
       "2         Adventure|Science Fiction|Thriller   \n",
       "3   Action|Adventure|Science Fiction|Fantasy   \n",
       "4                      Action|Crime|Thriller   \n",
       "\n",
       "                                production_companies release_date vote_count  \\\n",
       "0  Universal Studios|Amblin Entertainment|Legenda...       6/9/15       5562   \n",
       "1  Village Roadshow Pictures|Kennedy Miller Produ...      5/13/15       6185   \n",
       "2  Summit Entertainment|Mandeville Films|Red Wago...      3/18/15       2480   \n",
       "3          Lucasfilm|Truenorth Productions|Bad Robot     12/15/15       5292   \n",
       "4  Universal Pictures|Original Film|Media Rights ...       4/1/15       2947   \n",
       "\n",
       "   vote_average  release_year    budget_adj   revenue_adj  \n",
       "0           6.5          2015  1.379999e+08  1.392446e+09  \n",
       "1           7.1          2015  1.379999e+08  3.481613e+08  \n",
       "2           6.3          2015  1.012000e+08  2.716190e+08  \n",
       "3           7.5          2015  1.839999e+08  1.902723e+09  \n",
       "4           7.3          2015  1.747999e+08  1.385749e+09  \n",
       "\n",
       "[5 rows x 21 columns]"
      ]
     },
     "execution_count": 2,
     "metadata": {},
     "output_type": "execute_result"
    }
   ],
   "source": [
    "# Read csv files into dataframe, view the first few rows\n",
    "mdf=pd.read_csv('data/movies.csv')\n",
    "mdf.head()"
   ]
  },
  {
   "cell_type": "code",
   "execution_count": 3,
   "metadata": {},
   "outputs": [
    {
     "data": {
      "text/html": [
       "<div>\n",
       "<style scoped>\n",
       "    .dataframe tbody tr th:only-of-type {\n",
       "        vertical-align: middle;\n",
       "    }\n",
       "\n",
       "    .dataframe tbody tr th {\n",
       "        vertical-align: top;\n",
       "    }\n",
       "\n",
       "    .dataframe thead th {\n",
       "        text-align: right;\n",
       "    }\n",
       "</style>\n",
       "<table border=\"1\" class=\"dataframe\">\n",
       "  <thead>\n",
       "    <tr style=\"text-align: right;\">\n",
       "      <th></th>\n",
       "      <th>id</th>\n",
       "      <th>imdb_id</th>\n",
       "      <th>popularity</th>\n",
       "      <th>budget</th>\n",
       "      <th>revenue</th>\n",
       "      <th>original_title</th>\n",
       "      <th>cast</th>\n",
       "      <th>homepage</th>\n",
       "      <th>director</th>\n",
       "      <th>tagline</th>\n",
       "      <th>...</th>\n",
       "      <th>overview</th>\n",
       "      <th>runtime</th>\n",
       "      <th>genres</th>\n",
       "      <th>production_companies</th>\n",
       "      <th>release_date</th>\n",
       "      <th>vote_count</th>\n",
       "      <th>vote_average</th>\n",
       "      <th>release_year</th>\n",
       "      <th>budget_adj</th>\n",
       "      <th>revenue_adj</th>\n",
       "    </tr>\n",
       "  </thead>\n",
       "  <tbody>\n",
       "    <tr>\n",
       "      <th>10861</th>\n",
       "      <td>21</td>\n",
       "      <td>tt0060371</td>\n",
       "      <td>0.080598</td>\n",
       "      <td>0</td>\n",
       "      <td>0</td>\n",
       "      <td>The Endless Summer</td>\n",
       "      <td>Michael Hynson|Robert August|Lord 'Tally Ho' B...</td>\n",
       "      <td>NaN</td>\n",
       "      <td>Bruce Brown</td>\n",
       "      <td>NaN</td>\n",
       "      <td>...</td>\n",
       "      <td>The Endless Summer, by Bruce Brown, is one of ...</td>\n",
       "      <td>95</td>\n",
       "      <td>Documentary</td>\n",
       "      <td>Bruce Brown Films</td>\n",
       "      <td>6/15/66</td>\n",
       "      <td>11</td>\n",
       "      <td>7.4</td>\n",
       "      <td>1966</td>\n",
       "      <td>0.000000</td>\n",
       "      <td>0.0</td>\n",
       "    </tr>\n",
       "    <tr>\n",
       "      <th>10862</th>\n",
       "      <td>20379</td>\n",
       "      <td>tt0060472</td>\n",
       "      <td>0.065543</td>\n",
       "      <td>0</td>\n",
       "      <td>0</td>\n",
       "      <td>Grand Prix</td>\n",
       "      <td>James Garner|Eva Marie Saint|Yves Montand|Tosh...</td>\n",
       "      <td>NaN</td>\n",
       "      <td>John Frankenheimer</td>\n",
       "      <td>Cinerama sweeps YOU into a drama of speed and ...</td>\n",
       "      <td>...</td>\n",
       "      <td>Grand Prix driver Pete Aron is fired by his te...</td>\n",
       "      <td>176</td>\n",
       "      <td>Action|Adventure|Drama</td>\n",
       "      <td>Cherokee Productions|Joel Productions|Douglas ...</td>\n",
       "      <td>12/21/66</td>\n",
       "      <td>20</td>\n",
       "      <td>5.7</td>\n",
       "      <td>1966</td>\n",
       "      <td>0.000000</td>\n",
       "      <td>0.0</td>\n",
       "    </tr>\n",
       "    <tr>\n",
       "      <th>10863</th>\n",
       "      <td>39768</td>\n",
       "      <td>tt0060161</td>\n",
       "      <td>0.065141</td>\n",
       "      <td>0</td>\n",
       "      <td>0</td>\n",
       "      <td>Beregis Avtomobilya</td>\n",
       "      <td>Innokentiy Smoktunovskiy|Oleg Efremov|Georgi Z...</td>\n",
       "      <td>NaN</td>\n",
       "      <td>Eldar Ryazanov</td>\n",
       "      <td>NaN</td>\n",
       "      <td>...</td>\n",
       "      <td>An insurance agent who moonlights as a carthie...</td>\n",
       "      <td>94</td>\n",
       "      <td>Mystery|Comedy</td>\n",
       "      <td>Mosfilm</td>\n",
       "      <td>1/1/66</td>\n",
       "      <td>11</td>\n",
       "      <td>6.5</td>\n",
       "      <td>1966</td>\n",
       "      <td>0.000000</td>\n",
       "      <td>0.0</td>\n",
       "    </tr>\n",
       "    <tr>\n",
       "      <th>10864</th>\n",
       "      <td>21449</td>\n",
       "      <td>tt0061177</td>\n",
       "      <td>0.064317</td>\n",
       "      <td>0</td>\n",
       "      <td>0</td>\n",
       "      <td>What's Up, Tiger Lily?</td>\n",
       "      <td>Tatsuya Mihashi|Akiko Wakabayashi|Mie Hama|Joh...</td>\n",
       "      <td>NaN</td>\n",
       "      <td>Woody Allen</td>\n",
       "      <td>WOODY ALLEN STRIKES BACK!</td>\n",
       "      <td>...</td>\n",
       "      <td>In comic Woody Allen's film debut, he took the...</td>\n",
       "      <td>80</td>\n",
       "      <td>Action|Comedy</td>\n",
       "      <td>Benedict Pictures Corp.</td>\n",
       "      <td>11/2/66</td>\n",
       "      <td>22</td>\n",
       "      <td>5.4</td>\n",
       "      <td>1966</td>\n",
       "      <td>0.000000</td>\n",
       "      <td>0.0</td>\n",
       "    </tr>\n",
       "    <tr>\n",
       "      <th>10865</th>\n",
       "      <td>22293</td>\n",
       "      <td>tt0060666</td>\n",
       "      <td>0.035919</td>\n",
       "      <td>19000</td>\n",
       "      <td>0</td>\n",
       "      <td>Manos: The Hands of Fate</td>\n",
       "      <td>Harold P. Warren|Tom Neyman|John Reynolds|Dian...</td>\n",
       "      <td>NaN</td>\n",
       "      <td>Harold P. Warren</td>\n",
       "      <td>It's Shocking! It's Beyond Your Imagination!</td>\n",
       "      <td>...</td>\n",
       "      <td>A family gets lost on the road and stumbles up...</td>\n",
       "      <td>74</td>\n",
       "      <td>Horror</td>\n",
       "      <td>Norm-Iris</td>\n",
       "      <td>11/15/66</td>\n",
       "      <td>15</td>\n",
       "      <td>1.5</td>\n",
       "      <td>1966</td>\n",
       "      <td>127642.279154</td>\n",
       "      <td>0.0</td>\n",
       "    </tr>\n",
       "  </tbody>\n",
       "</table>\n",
       "<p>5 rows × 21 columns</p>\n",
       "</div>"
      ],
      "text/plain": [
       "          id    imdb_id  popularity  budget  revenue  \\\n",
       "10861     21  tt0060371    0.080598       0        0   \n",
       "10862  20379  tt0060472    0.065543       0        0   \n",
       "10863  39768  tt0060161    0.065141       0        0   \n",
       "10864  21449  tt0061177    0.064317       0        0   \n",
       "10865  22293  tt0060666    0.035919   19000        0   \n",
       "\n",
       "                 original_title  \\\n",
       "10861        The Endless Summer   \n",
       "10862                Grand Prix   \n",
       "10863       Beregis Avtomobilya   \n",
       "10864    What's Up, Tiger Lily?   \n",
       "10865  Manos: The Hands of Fate   \n",
       "\n",
       "                                                    cast homepage  \\\n",
       "10861  Michael Hynson|Robert August|Lord 'Tally Ho' B...      NaN   \n",
       "10862  James Garner|Eva Marie Saint|Yves Montand|Tosh...      NaN   \n",
       "10863  Innokentiy Smoktunovskiy|Oleg Efremov|Georgi Z...      NaN   \n",
       "10864  Tatsuya Mihashi|Akiko Wakabayashi|Mie Hama|Joh...      NaN   \n",
       "10865  Harold P. Warren|Tom Neyman|John Reynolds|Dian...      NaN   \n",
       "\n",
       "                 director                                            tagline  \\\n",
       "10861         Bruce Brown                                                NaN   \n",
       "10862  John Frankenheimer  Cinerama sweeps YOU into a drama of speed and ...   \n",
       "10863      Eldar Ryazanov                                                NaN   \n",
       "10864         Woody Allen                          WOODY ALLEN STRIKES BACK!   \n",
       "10865    Harold P. Warren       It's Shocking! It's Beyond Your Imagination!   \n",
       "\n",
       "       ...                                           overview runtime  \\\n",
       "10861  ...  The Endless Summer, by Bruce Brown, is one of ...      95   \n",
       "10862  ...  Grand Prix driver Pete Aron is fired by his te...     176   \n",
       "10863  ...  An insurance agent who moonlights as a carthie...      94   \n",
       "10864  ...  In comic Woody Allen's film debut, he took the...      80   \n",
       "10865  ...  A family gets lost on the road and stumbles up...      74   \n",
       "\n",
       "                       genres  \\\n",
       "10861             Documentary   \n",
       "10862  Action|Adventure|Drama   \n",
       "10863          Mystery|Comedy   \n",
       "10864           Action|Comedy   \n",
       "10865                  Horror   \n",
       "\n",
       "                                    production_companies release_date  \\\n",
       "10861                                  Bruce Brown Films      6/15/66   \n",
       "10862  Cherokee Productions|Joel Productions|Douglas ...     12/21/66   \n",
       "10863                                            Mosfilm       1/1/66   \n",
       "10864                            Benedict Pictures Corp.      11/2/66   \n",
       "10865                                          Norm-Iris     11/15/66   \n",
       "\n",
       "      vote_count  vote_average  release_year     budget_adj  revenue_adj  \n",
       "10861         11           7.4          1966       0.000000          0.0  \n",
       "10862         20           5.7          1966       0.000000          0.0  \n",
       "10863         11           6.5          1966       0.000000          0.0  \n",
       "10864         22           5.4          1966       0.000000          0.0  \n",
       "10865         15           1.5          1966  127642.279154          0.0  \n",
       "\n",
       "[5 rows x 21 columns]"
      ]
     },
     "execution_count": 3,
     "metadata": {},
     "output_type": "execute_result"
    }
   ],
   "source": [
    "mdf.tail()"
   ]
  },
  {
   "cell_type": "code",
   "execution_count": 4,
   "metadata": {},
   "outputs": [
    {
     "name": "stdout",
     "output_type": "stream",
     "text": [
      "<class 'pandas.core.frame.DataFrame'>\n",
      "RangeIndex: 10866 entries, 0 to 10865\n",
      "Data columns (total 21 columns):\n",
      " #   Column                Non-Null Count  Dtype  \n",
      "---  ------                --------------  -----  \n",
      " 0   id                    10866 non-null  int64  \n",
      " 1   imdb_id               10856 non-null  object \n",
      " 2   popularity            10866 non-null  float64\n",
      " 3   budget                10866 non-null  int64  \n",
      " 4   revenue               10866 non-null  int64  \n",
      " 5   original_title        10866 non-null  object \n",
      " 6   cast                  10790 non-null  object \n",
      " 7   homepage              2936 non-null   object \n",
      " 8   director              10822 non-null  object \n",
      " 9   tagline               8042 non-null   object \n",
      " 10  keywords              9373 non-null   object \n",
      " 11  overview              10862 non-null  object \n",
      " 12  runtime               10866 non-null  int64  \n",
      " 13  genres                10843 non-null  object \n",
      " 14  production_companies  9836 non-null   object \n",
      " 15  release_date          10866 non-null  object \n",
      " 16  vote_count            10866 non-null  int64  \n",
      " 17  vote_average          10866 non-null  float64\n",
      " 18  release_year          10866 non-null  int64  \n",
      " 19  budget_adj            10866 non-null  float64\n",
      " 20  revenue_adj           10866 non-null  float64\n",
      "dtypes: float64(4), int64(6), object(11)\n",
      "memory usage: 1.7+ MB\n"
     ]
    }
   ],
   "source": [
    "# View data types and shape, notice missing values\n",
    "mdf.info()"
   ]
  },
  {
   "cell_type": "code",
   "execution_count": 5,
   "metadata": {},
   "outputs": [
    {
     "data": {
      "text/plain": [
       "(10866, 21)"
      ]
     },
     "execution_count": 5,
     "metadata": {},
     "output_type": "execute_result"
    }
   ],
   "source": [
    "mdf.shape"
   ]
  },
  {
   "cell_type": "code",
   "execution_count": 6,
   "metadata": {},
   "outputs": [
    {
     "data": {
      "text/plain": [
       "id                        int64\n",
       "imdb_id                  object\n",
       "popularity              float64\n",
       "budget                    int64\n",
       "revenue                   int64\n",
       "original_title           object\n",
       "cast                     object\n",
       "homepage                 object\n",
       "director                 object\n",
       "tagline                  object\n",
       "keywords                 object\n",
       "overview                 object\n",
       "runtime                   int64\n",
       "genres                   object\n",
       "production_companies     object\n",
       "release_date             object\n",
       "vote_count                int64\n",
       "vote_average            float64\n",
       "release_year              int64\n",
       "budget_adj              float64\n",
       "revenue_adj             float64\n",
       "dtype: object"
      ]
     },
     "execution_count": 6,
     "metadata": {},
     "output_type": "execute_result"
    }
   ],
   "source": [
    "#Explore Data types\n",
    "mdf.dtypes"
   ]
  },
  {
   "cell_type": "code",
   "execution_count": 7,
   "metadata": {},
   "outputs": [
    {
     "data": {
      "text/plain": [
       "0      6/9/15\n",
       "1     5/13/15\n",
       "2     3/18/15\n",
       "3    12/15/15\n",
       "4      4/1/15\n",
       "Name: release_date, dtype: object"
      ]
     },
     "execution_count": 7,
     "metadata": {},
     "output_type": "execute_result"
    }
   ],
   "source": [
    "# View release date dtype\n",
    "mdf['release_date'].head()"
   ]
  },
  {
   "cell_type": "code",
   "execution_count": 8,
   "metadata": {},
   "outputs": [
    {
     "data": {
      "text/plain": [
       "56"
      ]
     },
     "execution_count": 8,
     "metadata": {},
     "output_type": "execute_result"
    }
   ],
   "source": [
    "# count unique years present in dataset\n",
    "year_count= len(list(mdf['release_year'].unique()))\n",
    "year_count"
   ]
  },
  {
   "cell_type": "code",
   "execution_count": 9,
   "metadata": {},
   "outputs": [
    {
     "data": {
      "text/plain": [
       "id                      76\n",
       "imdb_id                 76\n",
       "popularity              76\n",
       "budget                  76\n",
       "revenue                 76\n",
       "original_title          76\n",
       "cast                     0\n",
       "homepage                28\n",
       "director                70\n",
       "tagline                 26\n",
       "keywords                45\n",
       "overview                76\n",
       "runtime                 76\n",
       "genres                  75\n",
       "production_companies    36\n",
       "release_date            76\n",
       "vote_count              76\n",
       "vote_average            76\n",
       "release_year            76\n",
       "budget_adj              76\n",
       "revenue_adj             76\n",
       "dtype: int64"
      ]
     },
     "execution_count": 9,
     "metadata": {},
     "output_type": "execute_result"
    }
   ],
   "source": [
    "# View totals with missing cast\n",
    "no_cast=mdf[mdf['cast'].isna()]\n",
    "no_cast.count()"
   ]
  },
  {
   "cell_type": "code",
   "execution_count": 10,
   "metadata": {},
   "outputs": [],
   "source": [
    "# Explore null values in dataset\n",
    "null_col=mdf.isnull().sum()"
   ]
  },
  {
   "cell_type": "code",
   "execution_count": 11,
   "metadata": {},
   "outputs": [
    {
     "data": {
      "text/plain": [
       "['imdb_id',\n",
       " 'cast',\n",
       " 'homepage',\n",
       " 'director',\n",
       " 'tagline',\n",
       " 'keywords',\n",
       " 'overview',\n",
       " 'genres',\n",
       " 'production_companies']"
      ]
     },
     "execution_count": 11,
     "metadata": {},
     "output_type": "execute_result"
    }
   ],
   "source": [
    "# list of all columns with null values\n",
    "all_null_col= [k for k, v in null_col.items() if v >0]\n",
    "all_null_col"
   ]
  },
  {
   "cell_type": "code",
   "execution_count": 12,
   "metadata": {},
   "outputs": [
    {
     "data": {
      "text/html": [
       "<div>\n",
       "<style scoped>\n",
       "    .dataframe tbody tr th:only-of-type {\n",
       "        vertical-align: middle;\n",
       "    }\n",
       "\n",
       "    .dataframe tbody tr th {\n",
       "        vertical-align: top;\n",
       "    }\n",
       "\n",
       "    .dataframe thead th {\n",
       "        text-align: right;\n",
       "    }\n",
       "</style>\n",
       "<table border=\"1\" class=\"dataframe\">\n",
       "  <thead>\n",
       "    <tr style=\"text-align: right;\">\n",
       "      <th></th>\n",
       "      <th>id</th>\n",
       "      <th>imdb_id</th>\n",
       "      <th>popularity</th>\n",
       "      <th>budget</th>\n",
       "      <th>revenue</th>\n",
       "      <th>original_title</th>\n",
       "      <th>cast</th>\n",
       "      <th>homepage</th>\n",
       "      <th>director</th>\n",
       "      <th>tagline</th>\n",
       "      <th>...</th>\n",
       "      <th>overview</th>\n",
       "      <th>runtime</th>\n",
       "      <th>genres</th>\n",
       "      <th>production_companies</th>\n",
       "      <th>release_date</th>\n",
       "      <th>vote_count</th>\n",
       "      <th>vote_average</th>\n",
       "      <th>release_year</th>\n",
       "      <th>budget_adj</th>\n",
       "      <th>revenue_adj</th>\n",
       "    </tr>\n",
       "  </thead>\n",
       "  <tbody>\n",
       "    <tr>\n",
       "      <th>2090</th>\n",
       "      <td>42194</td>\n",
       "      <td>tt0411951</td>\n",
       "      <td>0.59643</td>\n",
       "      <td>30000000</td>\n",
       "      <td>967000</td>\n",
       "      <td>TEKKEN</td>\n",
       "      <td>Jon Foo|Kelly Overton|Cary-Hiroyuki Tagawa|Ian...</td>\n",
       "      <td>NaN</td>\n",
       "      <td>Dwight H. Little</td>\n",
       "      <td>Survival is no game</td>\n",
       "      <td>...</td>\n",
       "      <td>In the year of 2039, after World Wars destroy ...</td>\n",
       "      <td>92</td>\n",
       "      <td>Crime|Drama|Action|Thriller|Science Fiction</td>\n",
       "      <td>Namco|Light Song Films</td>\n",
       "      <td>3/20/10</td>\n",
       "      <td>110</td>\n",
       "      <td>5.0</td>\n",
       "      <td>2010</td>\n",
       "      <td>30000000.0</td>\n",
       "      <td>967000.0</td>\n",
       "    </tr>\n",
       "  </tbody>\n",
       "</table>\n",
       "<p>1 rows × 21 columns</p>\n",
       "</div>"
      ],
      "text/plain": [
       "         id    imdb_id  popularity    budget  revenue original_title  \\\n",
       "2090  42194  tt0411951     0.59643  30000000   967000         TEKKEN   \n",
       "\n",
       "                                                   cast homepage  \\\n",
       "2090  Jon Foo|Kelly Overton|Cary-Hiroyuki Tagawa|Ian...      NaN   \n",
       "\n",
       "              director              tagline  ...  \\\n",
       "2090  Dwight H. Little  Survival is no game  ...   \n",
       "\n",
       "                                               overview runtime  \\\n",
       "2090  In the year of 2039, after World Wars destroy ...      92   \n",
       "\n",
       "                                           genres    production_companies  \\\n",
       "2090  Crime|Drama|Action|Thriller|Science Fiction  Namco|Light Song Films   \n",
       "\n",
       "     release_date vote_count  vote_average  release_year  budget_adj  \\\n",
       "2090      3/20/10        110           5.0          2010  30000000.0   \n",
       "\n",
       "      revenue_adj  \n",
       "2090     967000.0  \n",
       "\n",
       "[1 rows x 21 columns]"
      ]
     },
     "execution_count": 12,
     "metadata": {},
     "output_type": "execute_result"
    }
   ],
   "source": [
    "# Find duplicate rows\n",
    "mdf[mdf.duplicated()]"
   ]
  },
  {
   "cell_type": "code",
   "execution_count": 13,
   "metadata": {},
   "outputs": [
    {
     "name": "stdout",
     "output_type": "stream",
     "text": [
      "cast column has multiple values:\n",
      "--------------------------------\n",
      "keywords column has multiple values:\n",
      "--------------------------------\n",
      "genres column has multiple values:\n",
      "--------------------------------\n",
      "production_companies column has multiple values:\n",
      "--------------------------------\n"
     ]
    }
   ],
   "source": [
    "# find all columns with multiple values | separated\n",
    "for c in list(mdf.columns):\n",
    "    v=mdf[c].iloc[0]\n",
    "    if isinstance(v, str) and '|' in v:\n",
    "        newline = '/n'\n",
    "        print(f'{c} column has multiple values:')\n",
    "        print('--------------------------------')"
   ]
  },
  {
   "cell_type": "code",
   "execution_count": 14,
   "metadata": {},
   "outputs": [
    {
     "data": {
      "text/plain": [
       "array(['monster|dna|tyrannosaurus rex|velociraptor|island',\n",
       "       'future|chase|post-apocalyptic|dystopia|australia',\n",
       "       'based on novel|revolution|dystopia|sequel|dystopic future', ...,\n",
       "       'car race|racing|formula 1', 'car|trolley|stealing car',\n",
       "       'fire|gun|drive|sacrifice|flashlight'], dtype=object)"
      ]
     },
     "execution_count": 14,
     "metadata": {},
     "output_type": "execute_result"
    }
   ],
   "source": [
    "mdf['keywords'].unique()"
   ]
  },
  {
   "cell_type": "code",
   "execution_count": 15,
   "metadata": {},
   "outputs": [
    {
     "data": {
      "text/plain": [
       "array(['Action|Adventure|Science Fiction|Thriller',\n",
       "       'Adventure|Science Fiction|Thriller',\n",
       "       'Action|Adventure|Science Fiction|Fantasy', ...,\n",
       "       'Adventure|Drama|Action|Family|Foreign',\n",
       "       'Comedy|Family|Mystery|Romance',\n",
       "       'Mystery|Science Fiction|Thriller|Drama'], dtype=object)"
      ]
     },
     "execution_count": 15,
     "metadata": {},
     "output_type": "execute_result"
    }
   ],
   "source": [
    "mdf['genres'].unique()"
   ]
  },
  {
   "cell_type": "markdown",
   "metadata": {},
   "source": [
    "### Explore categories, popularity, revenue, and year\n",
    "\n",
    "- separate categories for production companies and genres\n",
    "- determine unique category names"
   ]
  },
  {
   "cell_type": "code",
   "execution_count": 16,
   "metadata": {},
   "outputs": [
    {
     "data": {
      "text/plain": [
       "21"
      ]
     },
     "execution_count": 16,
     "metadata": {},
     "output_type": "execute_result"
    }
   ],
   "source": [
    "# get list of unique genre names\n",
    "%run categories.py\n",
    "mdf['genres']= replace_pipe(mdf, 'genres')\n",
    "genre=get_unique_list(mdf, 'genres')\n",
    "len(genre)"
   ]
  },
  {
   "cell_type": "code",
   "execution_count": 17,
   "metadata": {},
   "outputs": [
    {
     "data": {
      "text/plain": [
       "7890"
      ]
     },
     "execution_count": 17,
     "metadata": {},
     "output_type": "execute_result"
    }
   ],
   "source": [
    "# get list of unique production company names\n",
    "mdf['production_companies']= replace_pipe(mdf, 'production_companies')\n",
    "prod=get_unique_list(mdf, 'production_companies')\n",
    "len(prod)"
   ]
  },
  {
   "cell_type": "code",
   "execution_count": 18,
   "metadata": {},
   "outputs": [
    {
     "data": {
      "text/plain": [
       "count    1.086600e+04\n",
       "mean     3.982332e+07\n",
       "std      1.170035e+08\n",
       "min      0.000000e+00\n",
       "25%      0.000000e+00\n",
       "50%      0.000000e+00\n",
       "75%      2.400000e+07\n",
       "max      2.781506e+09\n",
       "Name: revenue, dtype: float64"
      ]
     },
     "execution_count": 18,
     "metadata": {},
     "output_type": "execute_result"
    }
   ],
   "source": [
    "# Revenue, budget\n",
    "mdf['revenue'].describe()"
   ]
  },
  {
   "cell_type": "code",
   "execution_count": 19,
   "metadata": {},
   "outputs": [
    {
     "data": {
      "text/plain": [
       "count    1.086600e+04\n",
       "mean     5.136436e+07\n",
       "std      1.446325e+08\n",
       "min      0.000000e+00\n",
       "25%      0.000000e+00\n",
       "50%      0.000000e+00\n",
       "75%      3.369710e+07\n",
       "max      2.827124e+09\n",
       "Name: revenue_adj, dtype: float64"
      ]
     },
     "execution_count": 19,
     "metadata": {},
     "output_type": "execute_result"
    }
   ],
   "source": [
    "# Revenue, budget\n",
    "mdf['revenue_adj'].describe()"
   ]
  },
  {
   "cell_type": "code",
   "execution_count": 20,
   "metadata": {},
   "outputs": [
    {
     "data": {
      "text/plain": [
       "count    10866.000000\n",
       "mean         0.646441\n",
       "std          1.000185\n",
       "min          0.000065\n",
       "25%          0.207583\n",
       "50%          0.383856\n",
       "75%          0.713817\n",
       "max         32.985763\n",
       "Name: popularity, dtype: float64"
      ]
     },
     "execution_count": 20,
     "metadata": {},
     "output_type": "execute_result"
    }
   ],
   "source": [
    "# Revenue, budget\n",
    "mdf['popularity'].describe()"
   ]
  },
  {
   "cell_type": "markdown",
   "metadata": {},
   "source": [
    "> END EXPLORE DATASET"
   ]
  },
  {
   "cell_type": "markdown",
   "metadata": {},
   "source": [
    "## Dataset wrangling and validation"
   ]
  },
  {
   "cell_type": "code",
   "execution_count": 21,
   "metadata": {},
   "outputs": [],
   "source": [
    "from pandera import Column, DataFrameSchema\n",
    "pd.options.mode.chained_assignment = None  # default='warn'\n",
    "from pathlib import Path\n",
    "import yaml\n",
    "import black\n",
    "import sys\n",
    "import logging\n",
    "import numpy as np\n",
    "import pandera as pd\n",
    "%run validate.py\n",
    "%run categories.py"
   ]
  },
  {
   "cell_type": "code",
   "execution_count": 22,
   "metadata": {},
   "outputs": [],
   "source": [
    "# Create schema to keep track of columns of how I want data shaped\n",
    "schema = pa.DataFrameSchema(\n",
    "    {\n",
    "    'popularity': Column(pa.Float64),\n",
    "    'budget': Column(pa.Int64),\n",
    "    'revenue': Column(pa.Int64),\n",
    "    'net' : Column(pa.Int64),\n",
    "    'original_title': Column(pa.String), \n",
    "    'director': Column(pa.String),\n",
    "    'runtime': Column(pa.Int64),\n",
    "    'action': Column(pa.Int),\n",
    "    'adventure': Column(pa.Int),\n",
    "    'animation': Column(pa.Int),\n",
    "    'comedy': Column(pa.Int),\n",
    "    'crime': Column(pa.Int),\n",
    "    'documentary': Column(pa.Int),\n",
    "    'drama': Column(pa.Int),\n",
    "    'family': Column(pa.Int),\n",
    "    'fantasy': Column(pa.Int),\n",
    "    'foreign': Column(pa.Int),\n",
    "    'history': Column(pa.Int),\n",
    "    'horror': Column(pa.Int),\n",
    "    'music': Column(pa.Int),\n",
    "    'mystery': Column(pa.Int),\n",
    "    'romance': Column(pa.Int),\n",
    "    'science_fiction': Column(pa.Int),\n",
    "    'tv_movie': Column(pa.Int),\n",
    "    'thriller': Column(pa.Int),\n",
    "    'war': Column(pa.Int),\n",
    "    'western': Column(pa.Int),\n",
    "    'no_genre' : Column(pa.Int),\n",
    "    'production_companies': Column(pa.String),\n",
    "    'release_date': Column(pa.DateTime),\n",
    "    'release_day' : Column(pa.String),\n",
    "    'holiday' : Column(pa.Bool),\n",
    "    'vote_count': Column(pa.Int64),\n",
    "    'vote_average': Column(pa.Float64),\n",
    "    'release_year': Column(pa.Int64),\n",
    "    'release_year_groups' : Column(pa.Category),\n",
    "    'budget_adj' : Column(pa.Float64),\n",
    "    'revenue_adj' : Column(pa.Float64),\n",
    "    'net_adj' : Column(pa.Float64)\n",
    "}\n",
    "\n",
    ")"
   ]
  },
  {
   "cell_type": "code",
   "execution_count": 23,
   "metadata": {},
   "outputs": [
    {
     "data": {
      "text/plain": [
       "5535"
      ]
     },
     "execution_count": 23,
     "metadata": {},
     "output_type": "execute_result"
    }
   ],
   "source": [
    "# Put Schema into YAML file\n",
    "yaml_sche = schema.to_yaml()\n",
    "f = Path('file.yml')\n",
    "f.touch()\n",
    "f.write_text(yaml_sche)"
   ]
  },
  {
   "cell_type": "code",
   "execution_count": 24,
   "metadata": {},
   "outputs": [],
   "source": [
    "# open the yaml file\n",
    "with open('file.yml', 'r') as f:\n",
    "    file = yaml.safe_load(f)"
   ]
  },
  {
   "cell_type": "code",
   "execution_count": 25,
   "metadata": {},
   "outputs": [
    {
     "data": {
      "text/html": [
       "<div>\n",
       "<style scoped>\n",
       "    .dataframe tbody tr th:only-of-type {\n",
       "        vertical-align: middle;\n",
       "    }\n",
       "\n",
       "    .dataframe tbody tr th {\n",
       "        vertical-align: top;\n",
       "    }\n",
       "\n",
       "    .dataframe thead th {\n",
       "        text-align: right;\n",
       "    }\n",
       "</style>\n",
       "<table border=\"1\" class=\"dataframe\">\n",
       "  <thead>\n",
       "    <tr style=\"text-align: right;\">\n",
       "      <th></th>\n",
       "      <th>id</th>\n",
       "      <th>imdb_id</th>\n",
       "      <th>popularity</th>\n",
       "      <th>budget</th>\n",
       "      <th>revenue</th>\n",
       "      <th>original_title</th>\n",
       "      <th>cast</th>\n",
       "      <th>homepage</th>\n",
       "      <th>director</th>\n",
       "      <th>tagline</th>\n",
       "      <th>...</th>\n",
       "      <th>overview</th>\n",
       "      <th>runtime</th>\n",
       "      <th>genres</th>\n",
       "      <th>production_companies</th>\n",
       "      <th>release_date</th>\n",
       "      <th>vote_count</th>\n",
       "      <th>vote_average</th>\n",
       "      <th>release_year</th>\n",
       "      <th>budget_adj</th>\n",
       "      <th>revenue_adj</th>\n",
       "    </tr>\n",
       "  </thead>\n",
       "  <tbody>\n",
       "    <tr>\n",
       "      <th>2090</th>\n",
       "      <td>42194</td>\n",
       "      <td>tt0411951</td>\n",
       "      <td>0.59643</td>\n",
       "      <td>30000000</td>\n",
       "      <td>967000</td>\n",
       "      <td>TEKKEN</td>\n",
       "      <td>Jon Foo|Kelly Overton|Cary-Hiroyuki Tagawa|Ian...</td>\n",
       "      <td>NaN</td>\n",
       "      <td>Dwight H. Little</td>\n",
       "      <td>Survival is no game</td>\n",
       "      <td>...</td>\n",
       "      <td>In the year of 2039, after World Wars destroy ...</td>\n",
       "      <td>92</td>\n",
       "      <td>Crime,Drama,Action,Thriller,Science Fiction</td>\n",
       "      <td>Namco,Light Song Films</td>\n",
       "      <td>3/20/10</td>\n",
       "      <td>110</td>\n",
       "      <td>5.0</td>\n",
       "      <td>2010</td>\n",
       "      <td>30000000.0</td>\n",
       "      <td>967000.0</td>\n",
       "    </tr>\n",
       "  </tbody>\n",
       "</table>\n",
       "<p>1 rows × 21 columns</p>\n",
       "</div>"
      ],
      "text/plain": [
       "         id    imdb_id  popularity    budget  revenue original_title  \\\n",
       "2090  42194  tt0411951     0.59643  30000000   967000         TEKKEN   \n",
       "\n",
       "                                                   cast homepage  \\\n",
       "2090  Jon Foo|Kelly Overton|Cary-Hiroyuki Tagawa|Ian...      NaN   \n",
       "\n",
       "              director              tagline  ...  \\\n",
       "2090  Dwight H. Little  Survival is no game  ...   \n",
       "\n",
       "                                               overview runtime  \\\n",
       "2090  In the year of 2039, after World Wars destroy ...      92   \n",
       "\n",
       "                                           genres    production_companies  \\\n",
       "2090  Crime,Drama,Action,Thriller,Science Fiction  Namco,Light Song Films   \n",
       "\n",
       "     release_date vote_count  vote_average  release_year  budget_adj  \\\n",
       "2090      3/20/10        110           5.0          2010  30000000.0   \n",
       "\n",
       "      revenue_adj  \n",
       "2090     967000.0  \n",
       "\n",
       "[1 rows x 21 columns]"
      ]
     },
     "execution_count": 25,
     "metadata": {},
     "output_type": "execute_result"
    }
   ],
   "source": [
    "# check for duplicates\n",
    "mdf[mdf.duplicated()]"
   ]
  },
  {
   "cell_type": "code",
   "execution_count": 26,
   "metadata": {},
   "outputs": [
    {
     "data": {
      "text/html": [
       "<div>\n",
       "<style scoped>\n",
       "    .dataframe tbody tr th:only-of-type {\n",
       "        vertical-align: middle;\n",
       "    }\n",
       "\n",
       "    .dataframe tbody tr th {\n",
       "        vertical-align: top;\n",
       "    }\n",
       "\n",
       "    .dataframe thead th {\n",
       "        text-align: right;\n",
       "    }\n",
       "</style>\n",
       "<table border=\"1\" class=\"dataframe\">\n",
       "  <thead>\n",
       "    <tr style=\"text-align: right;\">\n",
       "      <th></th>\n",
       "      <th>id</th>\n",
       "      <th>imdb_id</th>\n",
       "      <th>popularity</th>\n",
       "      <th>budget</th>\n",
       "      <th>revenue</th>\n",
       "      <th>original_title</th>\n",
       "      <th>cast</th>\n",
       "      <th>homepage</th>\n",
       "      <th>director</th>\n",
       "      <th>tagline</th>\n",
       "      <th>...</th>\n",
       "      <th>overview</th>\n",
       "      <th>runtime</th>\n",
       "      <th>genres</th>\n",
       "      <th>production_companies</th>\n",
       "      <th>release_date</th>\n",
       "      <th>vote_count</th>\n",
       "      <th>vote_average</th>\n",
       "      <th>release_year</th>\n",
       "      <th>budget_adj</th>\n",
       "      <th>revenue_adj</th>\n",
       "    </tr>\n",
       "  </thead>\n",
       "  <tbody>\n",
       "    <tr>\n",
       "      <th>0</th>\n",
       "      <td>135397</td>\n",
       "      <td>tt0369610</td>\n",
       "      <td>32.985763</td>\n",
       "      <td>150000000</td>\n",
       "      <td>1513528810</td>\n",
       "      <td>Jurassic World</td>\n",
       "      <td>Chris Pratt|Bryce Dallas Howard|Irrfan Khan|Vi...</td>\n",
       "      <td>http://www.jurassicworld.com/</td>\n",
       "      <td>Colin Trevorrow</td>\n",
       "      <td>The park is open.</td>\n",
       "      <td>...</td>\n",
       "      <td>Twenty-two years after the events of Jurassic ...</td>\n",
       "      <td>124</td>\n",
       "      <td>Action,Adventure,Science Fiction,Thriller</td>\n",
       "      <td>Universal Studios,Amblin Entertainment,Legenda...</td>\n",
       "      <td>6/9/15</td>\n",
       "      <td>5562</td>\n",
       "      <td>6.5</td>\n",
       "      <td>2015</td>\n",
       "      <td>1.379999e+08</td>\n",
       "      <td>1.392446e+09</td>\n",
       "    </tr>\n",
       "    <tr>\n",
       "      <th>1</th>\n",
       "      <td>76341</td>\n",
       "      <td>tt1392190</td>\n",
       "      <td>28.419936</td>\n",
       "      <td>150000000</td>\n",
       "      <td>378436354</td>\n",
       "      <td>Mad Max: Fury Road</td>\n",
       "      <td>Tom Hardy|Charlize Theron|Hugh Keays-Byrne|Nic...</td>\n",
       "      <td>http://www.madmaxmovie.com/</td>\n",
       "      <td>George Miller</td>\n",
       "      <td>What a Lovely Day.</td>\n",
       "      <td>...</td>\n",
       "      <td>An apocalyptic story set in the furthest reach...</td>\n",
       "      <td>120</td>\n",
       "      <td>Action,Adventure,Science Fiction,Thriller</td>\n",
       "      <td>Village Roadshow Pictures,Kennedy Miller Produ...</td>\n",
       "      <td>5/13/15</td>\n",
       "      <td>6185</td>\n",
       "      <td>7.1</td>\n",
       "      <td>2015</td>\n",
       "      <td>1.379999e+08</td>\n",
       "      <td>3.481613e+08</td>\n",
       "    </tr>\n",
       "    <tr>\n",
       "      <th>2</th>\n",
       "      <td>262500</td>\n",
       "      <td>tt2908446</td>\n",
       "      <td>13.112507</td>\n",
       "      <td>110000000</td>\n",
       "      <td>295238201</td>\n",
       "      <td>Insurgent</td>\n",
       "      <td>Shailene Woodley|Theo James|Kate Winslet|Ansel...</td>\n",
       "      <td>http://www.thedivergentseries.movie/#insurgent</td>\n",
       "      <td>Robert Schwentke</td>\n",
       "      <td>One Choice Can Destroy You</td>\n",
       "      <td>...</td>\n",
       "      <td>Beatrice Prior must confront her inner demons ...</td>\n",
       "      <td>119</td>\n",
       "      <td>Adventure,Science Fiction,Thriller</td>\n",
       "      <td>Summit Entertainment,Mandeville Films,Red Wago...</td>\n",
       "      <td>3/18/15</td>\n",
       "      <td>2480</td>\n",
       "      <td>6.3</td>\n",
       "      <td>2015</td>\n",
       "      <td>1.012000e+08</td>\n",
       "      <td>2.716190e+08</td>\n",
       "    </tr>\n",
       "    <tr>\n",
       "      <th>3</th>\n",
       "      <td>140607</td>\n",
       "      <td>tt2488496</td>\n",
       "      <td>11.173104</td>\n",
       "      <td>200000000</td>\n",
       "      <td>2068178225</td>\n",
       "      <td>Star Wars: The Force Awakens</td>\n",
       "      <td>Harrison Ford|Mark Hamill|Carrie Fisher|Adam D...</td>\n",
       "      <td>http://www.starwars.com/films/star-wars-episod...</td>\n",
       "      <td>J.J. Abrams</td>\n",
       "      <td>Every generation has a story.</td>\n",
       "      <td>...</td>\n",
       "      <td>Thirty years after defeating the Galactic Empi...</td>\n",
       "      <td>136</td>\n",
       "      <td>Action,Adventure,Science Fiction,Fantasy</td>\n",
       "      <td>Lucasfilm,Truenorth Productions,Bad Robot</td>\n",
       "      <td>12/15/15</td>\n",
       "      <td>5292</td>\n",
       "      <td>7.5</td>\n",
       "      <td>2015</td>\n",
       "      <td>1.839999e+08</td>\n",
       "      <td>1.902723e+09</td>\n",
       "    </tr>\n",
       "    <tr>\n",
       "      <th>4</th>\n",
       "      <td>168259</td>\n",
       "      <td>tt2820852</td>\n",
       "      <td>9.335014</td>\n",
       "      <td>190000000</td>\n",
       "      <td>1506249360</td>\n",
       "      <td>Furious 7</td>\n",
       "      <td>Vin Diesel|Paul Walker|Jason Statham|Michelle ...</td>\n",
       "      <td>http://www.furious7.com/</td>\n",
       "      <td>James Wan</td>\n",
       "      <td>Vengeance Hits Home</td>\n",
       "      <td>...</td>\n",
       "      <td>Deckard Shaw seeks revenge against Dominic Tor...</td>\n",
       "      <td>137</td>\n",
       "      <td>Action,Crime,Thriller</td>\n",
       "      <td>Universal Pictures,Original Film,Media Rights ...</td>\n",
       "      <td>4/1/15</td>\n",
       "      <td>2947</td>\n",
       "      <td>7.3</td>\n",
       "      <td>2015</td>\n",
       "      <td>1.747999e+08</td>\n",
       "      <td>1.385749e+09</td>\n",
       "    </tr>\n",
       "    <tr>\n",
       "      <th>...</th>\n",
       "      <td>...</td>\n",
       "      <td>...</td>\n",
       "      <td>...</td>\n",
       "      <td>...</td>\n",
       "      <td>...</td>\n",
       "      <td>...</td>\n",
       "      <td>...</td>\n",
       "      <td>...</td>\n",
       "      <td>...</td>\n",
       "      <td>...</td>\n",
       "      <td>...</td>\n",
       "      <td>...</td>\n",
       "      <td>...</td>\n",
       "      <td>...</td>\n",
       "      <td>...</td>\n",
       "      <td>...</td>\n",
       "      <td>...</td>\n",
       "      <td>...</td>\n",
       "      <td>...</td>\n",
       "      <td>...</td>\n",
       "      <td>...</td>\n",
       "    </tr>\n",
       "    <tr>\n",
       "      <th>10861</th>\n",
       "      <td>21</td>\n",
       "      <td>tt0060371</td>\n",
       "      <td>0.080598</td>\n",
       "      <td>0</td>\n",
       "      <td>0</td>\n",
       "      <td>The Endless Summer</td>\n",
       "      <td>Michael Hynson|Robert August|Lord 'Tally Ho' B...</td>\n",
       "      <td>NaN</td>\n",
       "      <td>Bruce Brown</td>\n",
       "      <td>NaN</td>\n",
       "      <td>...</td>\n",
       "      <td>The Endless Summer, by Bruce Brown, is one of ...</td>\n",
       "      <td>95</td>\n",
       "      <td>Documentary</td>\n",
       "      <td>Bruce Brown Films</td>\n",
       "      <td>6/15/66</td>\n",
       "      <td>11</td>\n",
       "      <td>7.4</td>\n",
       "      <td>1966</td>\n",
       "      <td>0.000000e+00</td>\n",
       "      <td>0.000000e+00</td>\n",
       "    </tr>\n",
       "    <tr>\n",
       "      <th>10862</th>\n",
       "      <td>20379</td>\n",
       "      <td>tt0060472</td>\n",
       "      <td>0.065543</td>\n",
       "      <td>0</td>\n",
       "      <td>0</td>\n",
       "      <td>Grand Prix</td>\n",
       "      <td>James Garner|Eva Marie Saint|Yves Montand|Tosh...</td>\n",
       "      <td>NaN</td>\n",
       "      <td>John Frankenheimer</td>\n",
       "      <td>Cinerama sweeps YOU into a drama of speed and ...</td>\n",
       "      <td>...</td>\n",
       "      <td>Grand Prix driver Pete Aron is fired by his te...</td>\n",
       "      <td>176</td>\n",
       "      <td>Action,Adventure,Drama</td>\n",
       "      <td>Cherokee Productions,Joel Productions,Douglas ...</td>\n",
       "      <td>12/21/66</td>\n",
       "      <td>20</td>\n",
       "      <td>5.7</td>\n",
       "      <td>1966</td>\n",
       "      <td>0.000000e+00</td>\n",
       "      <td>0.000000e+00</td>\n",
       "    </tr>\n",
       "    <tr>\n",
       "      <th>10863</th>\n",
       "      <td>39768</td>\n",
       "      <td>tt0060161</td>\n",
       "      <td>0.065141</td>\n",
       "      <td>0</td>\n",
       "      <td>0</td>\n",
       "      <td>Beregis Avtomobilya</td>\n",
       "      <td>Innokentiy Smoktunovskiy|Oleg Efremov|Georgi Z...</td>\n",
       "      <td>NaN</td>\n",
       "      <td>Eldar Ryazanov</td>\n",
       "      <td>NaN</td>\n",
       "      <td>...</td>\n",
       "      <td>An insurance agent who moonlights as a carthie...</td>\n",
       "      <td>94</td>\n",
       "      <td>Mystery,Comedy</td>\n",
       "      <td>Mosfilm</td>\n",
       "      <td>1/1/66</td>\n",
       "      <td>11</td>\n",
       "      <td>6.5</td>\n",
       "      <td>1966</td>\n",
       "      <td>0.000000e+00</td>\n",
       "      <td>0.000000e+00</td>\n",
       "    </tr>\n",
       "    <tr>\n",
       "      <th>10864</th>\n",
       "      <td>21449</td>\n",
       "      <td>tt0061177</td>\n",
       "      <td>0.064317</td>\n",
       "      <td>0</td>\n",
       "      <td>0</td>\n",
       "      <td>What's Up, Tiger Lily?</td>\n",
       "      <td>Tatsuya Mihashi|Akiko Wakabayashi|Mie Hama|Joh...</td>\n",
       "      <td>NaN</td>\n",
       "      <td>Woody Allen</td>\n",
       "      <td>WOODY ALLEN STRIKES BACK!</td>\n",
       "      <td>...</td>\n",
       "      <td>In comic Woody Allen's film debut, he took the...</td>\n",
       "      <td>80</td>\n",
       "      <td>Action,Comedy</td>\n",
       "      <td>Benedict Pictures Corp.</td>\n",
       "      <td>11/2/66</td>\n",
       "      <td>22</td>\n",
       "      <td>5.4</td>\n",
       "      <td>1966</td>\n",
       "      <td>0.000000e+00</td>\n",
       "      <td>0.000000e+00</td>\n",
       "    </tr>\n",
       "    <tr>\n",
       "      <th>10865</th>\n",
       "      <td>22293</td>\n",
       "      <td>tt0060666</td>\n",
       "      <td>0.035919</td>\n",
       "      <td>19000</td>\n",
       "      <td>0</td>\n",
       "      <td>Manos: The Hands of Fate</td>\n",
       "      <td>Harold P. Warren|Tom Neyman|John Reynolds|Dian...</td>\n",
       "      <td>NaN</td>\n",
       "      <td>Harold P. Warren</td>\n",
       "      <td>It's Shocking! It's Beyond Your Imagination!</td>\n",
       "      <td>...</td>\n",
       "      <td>A family gets lost on the road and stumbles up...</td>\n",
       "      <td>74</td>\n",
       "      <td>Horror</td>\n",
       "      <td>Norm-Iris</td>\n",
       "      <td>11/15/66</td>\n",
       "      <td>15</td>\n",
       "      <td>1.5</td>\n",
       "      <td>1966</td>\n",
       "      <td>1.276423e+05</td>\n",
       "      <td>0.000000e+00</td>\n",
       "    </tr>\n",
       "  </tbody>\n",
       "</table>\n",
       "<p>10865 rows × 21 columns</p>\n",
       "</div>"
      ],
      "text/plain": [
       "           id    imdb_id  popularity     budget     revenue  \\\n",
       "0      135397  tt0369610   32.985763  150000000  1513528810   \n",
       "1       76341  tt1392190   28.419936  150000000   378436354   \n",
       "2      262500  tt2908446   13.112507  110000000   295238201   \n",
       "3      140607  tt2488496   11.173104  200000000  2068178225   \n",
       "4      168259  tt2820852    9.335014  190000000  1506249360   \n",
       "...       ...        ...         ...        ...         ...   \n",
       "10861      21  tt0060371    0.080598          0           0   \n",
       "10862   20379  tt0060472    0.065543          0           0   \n",
       "10863   39768  tt0060161    0.065141          0           0   \n",
       "10864   21449  tt0061177    0.064317          0           0   \n",
       "10865   22293  tt0060666    0.035919      19000           0   \n",
       "\n",
       "                     original_title  \\\n",
       "0                    Jurassic World   \n",
       "1                Mad Max: Fury Road   \n",
       "2                         Insurgent   \n",
       "3      Star Wars: The Force Awakens   \n",
       "4                         Furious 7   \n",
       "...                             ...   \n",
       "10861            The Endless Summer   \n",
       "10862                    Grand Prix   \n",
       "10863           Beregis Avtomobilya   \n",
       "10864        What's Up, Tiger Lily?   \n",
       "10865      Manos: The Hands of Fate   \n",
       "\n",
       "                                                    cast  \\\n",
       "0      Chris Pratt|Bryce Dallas Howard|Irrfan Khan|Vi...   \n",
       "1      Tom Hardy|Charlize Theron|Hugh Keays-Byrne|Nic...   \n",
       "2      Shailene Woodley|Theo James|Kate Winslet|Ansel...   \n",
       "3      Harrison Ford|Mark Hamill|Carrie Fisher|Adam D...   \n",
       "4      Vin Diesel|Paul Walker|Jason Statham|Michelle ...   \n",
       "...                                                  ...   \n",
       "10861  Michael Hynson|Robert August|Lord 'Tally Ho' B...   \n",
       "10862  James Garner|Eva Marie Saint|Yves Montand|Tosh...   \n",
       "10863  Innokentiy Smoktunovskiy|Oleg Efremov|Georgi Z...   \n",
       "10864  Tatsuya Mihashi|Akiko Wakabayashi|Mie Hama|Joh...   \n",
       "10865  Harold P. Warren|Tom Neyman|John Reynolds|Dian...   \n",
       "\n",
       "                                                homepage            director  \\\n",
       "0                          http://www.jurassicworld.com/     Colin Trevorrow   \n",
       "1                            http://www.madmaxmovie.com/       George Miller   \n",
       "2         http://www.thedivergentseries.movie/#insurgent    Robert Schwentke   \n",
       "3      http://www.starwars.com/films/star-wars-episod...         J.J. Abrams   \n",
       "4                               http://www.furious7.com/           James Wan   \n",
       "...                                                  ...                 ...   \n",
       "10861                                                NaN         Bruce Brown   \n",
       "10862                                                NaN  John Frankenheimer   \n",
       "10863                                                NaN      Eldar Ryazanov   \n",
       "10864                                                NaN         Woody Allen   \n",
       "10865                                                NaN    Harold P. Warren   \n",
       "\n",
       "                                                 tagline  ...  \\\n",
       "0                                      The park is open.  ...   \n",
       "1                                     What a Lovely Day.  ...   \n",
       "2                             One Choice Can Destroy You  ...   \n",
       "3                          Every generation has a story.  ...   \n",
       "4                                    Vengeance Hits Home  ...   \n",
       "...                                                  ...  ...   \n",
       "10861                                                NaN  ...   \n",
       "10862  Cinerama sweeps YOU into a drama of speed and ...  ...   \n",
       "10863                                                NaN  ...   \n",
       "10864                          WOODY ALLEN STRIKES BACK!  ...   \n",
       "10865       It's Shocking! It's Beyond Your Imagination!  ...   \n",
       "\n",
       "                                                overview runtime  \\\n",
       "0      Twenty-two years after the events of Jurassic ...     124   \n",
       "1      An apocalyptic story set in the furthest reach...     120   \n",
       "2      Beatrice Prior must confront her inner demons ...     119   \n",
       "3      Thirty years after defeating the Galactic Empi...     136   \n",
       "4      Deckard Shaw seeks revenge against Dominic Tor...     137   \n",
       "...                                                  ...     ...   \n",
       "10861  The Endless Summer, by Bruce Brown, is one of ...      95   \n",
       "10862  Grand Prix driver Pete Aron is fired by his te...     176   \n",
       "10863  An insurance agent who moonlights as a carthie...      94   \n",
       "10864  In comic Woody Allen's film debut, he took the...      80   \n",
       "10865  A family gets lost on the road and stumbles up...      74   \n",
       "\n",
       "                                          genres  \\\n",
       "0      Action,Adventure,Science Fiction,Thriller   \n",
       "1      Action,Adventure,Science Fiction,Thriller   \n",
       "2             Adventure,Science Fiction,Thriller   \n",
       "3       Action,Adventure,Science Fiction,Fantasy   \n",
       "4                          Action,Crime,Thriller   \n",
       "...                                          ...   \n",
       "10861                                Documentary   \n",
       "10862                     Action,Adventure,Drama   \n",
       "10863                             Mystery,Comedy   \n",
       "10864                              Action,Comedy   \n",
       "10865                                     Horror   \n",
       "\n",
       "                                    production_companies release_date  \\\n",
       "0      Universal Studios,Amblin Entertainment,Legenda...       6/9/15   \n",
       "1      Village Roadshow Pictures,Kennedy Miller Produ...      5/13/15   \n",
       "2      Summit Entertainment,Mandeville Films,Red Wago...      3/18/15   \n",
       "3              Lucasfilm,Truenorth Productions,Bad Robot     12/15/15   \n",
       "4      Universal Pictures,Original Film,Media Rights ...       4/1/15   \n",
       "...                                                  ...          ...   \n",
       "10861                                  Bruce Brown Films      6/15/66   \n",
       "10862  Cherokee Productions,Joel Productions,Douglas ...     12/21/66   \n",
       "10863                                            Mosfilm       1/1/66   \n",
       "10864                            Benedict Pictures Corp.      11/2/66   \n",
       "10865                                          Norm-Iris     11/15/66   \n",
       "\n",
       "      vote_count  vote_average  release_year    budget_adj   revenue_adj  \n",
       "0           5562           6.5          2015  1.379999e+08  1.392446e+09  \n",
       "1           6185           7.1          2015  1.379999e+08  3.481613e+08  \n",
       "2           2480           6.3          2015  1.012000e+08  2.716190e+08  \n",
       "3           5292           7.5          2015  1.839999e+08  1.902723e+09  \n",
       "4           2947           7.3          2015  1.747999e+08  1.385749e+09  \n",
       "...          ...           ...           ...           ...           ...  \n",
       "10861         11           7.4          1966  0.000000e+00  0.000000e+00  \n",
       "10862         20           5.7          1966  0.000000e+00  0.000000e+00  \n",
       "10863         11           6.5          1966  0.000000e+00  0.000000e+00  \n",
       "10864         22           5.4          1966  0.000000e+00  0.000000e+00  \n",
       "10865         15           1.5          1966  1.276423e+05  0.000000e+00  \n",
       "\n",
       "[10865 rows x 21 columns]"
      ]
     },
     "execution_count": 26,
     "metadata": {},
     "output_type": "execute_result"
    }
   ],
   "source": [
    "# drop dulicates\n",
    "mdf.drop_duplicates()"
   ]
  },
  {
   "cell_type": "code",
   "execution_count": 27,
   "metadata": {},
   "outputs": [
    {
     "name": "stdout",
     "output_type": "stream",
     "text": [
      "<class 'pandas.core.frame.DataFrame'>\n",
      "RangeIndex: 10866 entries, 0 to 10865\n",
      "Data columns (total 21 columns):\n",
      " #   Column                Non-Null Count  Dtype  \n",
      "---  ------                --------------  -----  \n",
      " 0   id                    10866 non-null  int64  \n",
      " 1   imdb_id               10856 non-null  object \n",
      " 2   popularity            10866 non-null  float64\n",
      " 3   budget                10866 non-null  int64  \n",
      " 4   revenue               10866 non-null  int64  \n",
      " 5   original_title        10866 non-null  object \n",
      " 6   cast                  10790 non-null  object \n",
      " 7   homepage              2936 non-null   object \n",
      " 8   director              10822 non-null  object \n",
      " 9   tagline               8042 non-null   object \n",
      " 10  keywords              9373 non-null   object \n",
      " 11  overview              10862 non-null  object \n",
      " 12  runtime               10866 non-null  int64  \n",
      " 13  genres                10843 non-null  object \n",
      " 14  production_companies  10866 non-null  object \n",
      " 15  release_date          10866 non-null  object \n",
      " 16  vote_count            10866 non-null  int64  \n",
      " 17  vote_average          10866 non-null  float64\n",
      " 18  release_year          10866 non-null  int64  \n",
      " 19  budget_adj            10866 non-null  float64\n",
      " 20  revenue_adj           10866 non-null  float64\n",
      "dtypes: float64(4), int64(6), object(11)\n",
      "memory usage: 1.7+ MB\n"
     ]
    }
   ],
   "source": [
    "# change NaN to Independent in production companies column\n",
    "mdf['production_companies']=mdf['production_companies'].replace(np.nan,'Independent')\n",
    "mdf.info()"
   ]
  },
  {
   "cell_type": "code",
   "execution_count": 28,
   "metadata": {},
   "outputs": [
    {
     "name": "stdout",
     "output_type": "stream",
     "text": [
      "column name and column length validation failed\n",
      "Following File columns are not in the YAML file ['genres', 'imdb_id', 'cast', 'revenue', 'overview', 'homepage', 'keywords', 'budget', 'id', 'tagline']\n",
      "Following YAML columns are not in the file uploaded ['music', 'action', 'animation', 'release_year_groups', 'horror', 'western', 'no_genre', 'fantasy', 'science_fiction', 'documentary', 'family', 'crime', 'thriller', 'mystery', 'drama', 'history', 'comedy', 'release_day', 'war', 'net_adj', 'tv_movie', 'adventure', 'holiday', 'romance', 'foreign']\n"
     ]
    },
    {
     "data": {
      "text/plain": [
       "0"
      ]
     },
     "execution_count": 28,
     "metadata": {},
     "output_type": "execute_result"
    }
   ],
   "source": [
    "# run column validation\n",
    "col_val(mdf)"
   ]
  },
  {
   "cell_type": "code",
   "execution_count": 29,
   "metadata": {},
   "outputs": [],
   "source": [
    "# Remove columns from movies dataframe that will not be used in analysis and is not in the schema\n",
    "# leave genres in for now\n",
    "mdf= mdf.drop(['budget', 'revenue', 'overview', 'imdb_id', 'tagline', 'id', 'homepage', 'cast', 'keywords'], axis=1)     "
   ]
  },
  {
   "cell_type": "code",
   "execution_count": 30,
   "metadata": {},
   "outputs": [
    {
     "name": "stdout",
     "output_type": "stream",
     "text": [
      "<class 'pandas.core.frame.DataFrame'>\n",
      "RangeIndex: 10866 entries, 0 to 10865\n",
      "Data columns (total 12 columns):\n",
      " #   Column                Non-Null Count  Dtype  \n",
      "---  ------                --------------  -----  \n",
      " 0   popularity            10866 non-null  float64\n",
      " 1   original_title        10866 non-null  object \n",
      " 2   director              10822 non-null  object \n",
      " 3   runtime               10866 non-null  int64  \n",
      " 4   genres                10843 non-null  object \n",
      " 5   production_companies  10866 non-null  object \n",
      " 6   release_date          10866 non-null  object \n",
      " 7   vote_count            10866 non-null  int64  \n",
      " 8   vote_average          10866 non-null  float64\n",
      " 9   release_year          10866 non-null  int64  \n",
      " 10  budget_adj            10866 non-null  float64\n",
      " 11  revenue_adj           10866 non-null  float64\n",
      "dtypes: float64(4), int64(3), object(5)\n",
      "memory usage: 1018.8+ KB\n"
     ]
    }
   ],
   "source": [
    "mdf.info()"
   ]
  },
  {
   "cell_type": "code",
   "execution_count": 31,
   "metadata": {},
   "outputs": [
    {
     "name": "stdout",
     "output_type": "stream",
     "text": [
      "column name and column length validation failed\n",
      "Following File columns are not in the YAML file ['genres']\n",
      "Following YAML columns are not in the file uploaded ['music', 'action', 'animation', 'release_year_groups', 'horror', 'western', 'no_genre', 'fantasy', 'science_fiction', 'documentary', 'family', 'crime', 'thriller', 'mystery', 'drama', 'history', 'comedy', 'release_day', 'war', 'net_adj', 'tv_movie', 'adventure', 'holiday', 'romance', 'foreign']\n"
     ]
    },
    {
     "data": {
      "text/plain": [
       "0"
      ]
     },
     "execution_count": 31,
     "metadata": {},
     "output_type": "execute_result"
    }
   ],
   "source": [
    "# check columns\n",
    "col_val(mdf)"
   ]
  },
  {
   "cell_type": "markdown",
   "metadata": {},
   "source": [
    "Leave genres for now, begin adding columns for analysis."
   ]
  },
  {
   "cell_type": "code",
   "execution_count": 32,
   "metadata": {},
   "outputs": [],
   "source": [
    "# Add columns to movies dataframe that are in the schema\n",
    "mdf['net_adj'] = mdf['revenue_adj']-mdf['budget_adj']"
   ]
  },
  {
   "cell_type": "markdown",
   "metadata": {},
   "source": [
    "Separating Categories from genres columns\n",
    "\n",
    "- separate categories in genres\n",
    "- create new columns for genres using 0, 1"
   ]
  },
  {
   "cell_type": "code",
   "execution_count": 33,
   "metadata": {},
   "outputs": [],
   "source": [
    "# replace | with ,\n",
    "mdf['genres']=replace_pipe(mdf, 'genres')"
   ]
  },
  {
   "cell_type": "code",
   "execution_count": 34,
   "metadata": {},
   "outputs": [
    {
     "data": {
      "text/plain": [
       "21"
      ]
     },
     "execution_count": 34,
     "metadata": {},
     "output_type": "execute_result"
    }
   ],
   "source": [
    "# List of unique genres\n",
    "u_g=get_unique_list(mdf, 'genres')\n",
    "len(u_g)"
   ]
  },
  {
   "cell_type": "code",
   "execution_count": 35,
   "metadata": {},
   "outputs": [],
   "source": [
    "# add new genre columns to mdf, set all values to zero\n",
    "mdf=insert_zero(mdf, u_g)"
   ]
  },
  {
   "cell_type": "code",
   "execution_count": 36,
   "metadata": {},
   "outputs": [],
   "source": [
    "# Change new column value to 1 if category is present in old column. \n",
    "for g in u_g:\n",
    "    category_present(mdf, 'genres', g)"
   ]
  },
  {
   "cell_type": "code",
   "execution_count": 37,
   "metadata": {},
   "outputs": [
    {
     "name": "stdout",
     "output_type": "stream",
     "text": [
      "column name and column length validation failed\n",
      "Following File columns are not in the YAML file ['genres', 'nan']\n",
      "Following YAML columns are not in the file uploaded ['no_genre', 'release_day', 'holiday', 'release_year_groups']\n"
     ]
    },
    {
     "data": {
      "text/plain": [
       "0"
      ]
     },
     "execution_count": 37,
     "metadata": {},
     "output_type": "execute_result"
    }
   ],
   "source": [
    "# Schema check\n",
    "%run validate.py\n",
    "col_val(mdf)"
   ]
  },
  {
   "cell_type": "code",
   "execution_count": 38,
   "metadata": {},
   "outputs": [],
   "source": [
    "# drop old genres\n",
    "mdf.drop(['genres'], axis=1, inplace=True)"
   ]
  },
  {
   "cell_type": "code",
   "execution_count": 39,
   "metadata": {},
   "outputs": [],
   "source": [
    "# rename nan\n",
    "mdf.rename(columns = {'nan':'no_genre'}, inplace = True)"
   ]
  },
  {
   "cell_type": "code",
   "execution_count": 40,
   "metadata": {},
   "outputs": [
    {
     "name": "stdout",
     "output_type": "stream",
     "text": [
      "<class 'pandas.core.frame.DataFrame'>\n",
      "RangeIndex: 10866 entries, 0 to 10865\n",
      "Data columns (total 33 columns):\n",
      " #   Column                Non-Null Count  Dtype  \n",
      "---  ------                --------------  -----  \n",
      " 0   popularity            10866 non-null  float64\n",
      " 1   original_title        10866 non-null  object \n",
      " 2   director              10822 non-null  object \n",
      " 3   runtime               10866 non-null  int64  \n",
      " 4   production_companies  10866 non-null  object \n",
      " 5   release_date          10866 non-null  object \n",
      " 6   vote_count            10866 non-null  int64  \n",
      " 7   vote_average          10866 non-null  float64\n",
      " 8   release_year          10866 non-null  int64  \n",
      " 9   budget_adj            10866 non-null  float64\n",
      " 10  revenue_adj           10866 non-null  float64\n",
      " 11  net_adj               10866 non-null  float64\n",
      " 12  tv_movie              10866 non-null  int64  \n",
      " 13  science_fiction       10866 non-null  int64  \n",
      " 14  fantasy               10866 non-null  int64  \n",
      " 15  history               10866 non-null  int64  \n",
      " 16  foreign               10866 non-null  int64  \n",
      " 17  documentary           10866 non-null  int64  \n",
      " 18  horror                10866 non-null  int64  \n",
      " 19  drama                 10866 non-null  int64  \n",
      " 20  music                 10866 non-null  int64  \n",
      " 21  adventure             10866 non-null  int64  \n",
      " 22  crime                 10866 non-null  int64  \n",
      " 23  action                10866 non-null  int64  \n",
      " 24  western               10866 non-null  int64  \n",
      " 25  family                10866 non-null  int64  \n",
      " 26  no_genre              10866 non-null  int64  \n",
      " 27  war                   10866 non-null  int64  \n",
      " 28  comedy                10866 non-null  int64  \n",
      " 29  thriller              10866 non-null  int64  \n",
      " 30  mystery               10866 non-null  int64  \n",
      " 31  animation             10866 non-null  int64  \n",
      " 32  romance               10866 non-null  int64  \n",
      "dtypes: float64(5), int64(24), object(4)\n",
      "memory usage: 2.7+ MB\n"
     ]
    }
   ],
   "source": [
    "# Infor check\n",
    "mdf.info()"
   ]
  },
  {
   "cell_type": "code",
   "execution_count": 41,
   "metadata": {},
   "outputs": [
    {
     "name": "stdout",
     "output_type": "stream",
     "text": [
      "column name and column length validation failed\n",
      "Following File columns are not in the YAML file []\n",
      "Following YAML columns are not in the file uploaded ['holiday', 'release_day', 'release_year_groups']\n"
     ]
    },
    {
     "data": {
      "text/plain": [
       "0"
      ]
     },
     "execution_count": 41,
     "metadata": {},
     "output_type": "execute_result"
    }
   ],
   "source": [
    "# column name check\n",
    "col_val(mdf)"
   ]
  },
  {
   "cell_type": "markdown",
   "metadata": {},
   "source": [
    "### Clean-Shape Dates \n",
    "- Change release_date to datetime\n",
    "- Add release days and holidays columns\n",
    "- Get 5 year categories for release years"
   ]
  },
  {
   "cell_type": "code",
   "execution_count": 42,
   "metadata": {},
   "outputs": [],
   "source": [
    "# Fixing dates in release date column to yyyy-mm-dd\n",
    "# split of the values in release_day column to 3 seperate columns\n",
    "date_fix=mdf['release_date'].str.split('/', expand=True)\n",
    "\n",
    "# 0-month, 1-day, 2-year\n",
    "# fill zeros for month and day\n",
    "date_fix[0]=date_fix[0].str.zfill(2)\n",
    "date_fix[1]=date_fix[1].str.zfill(2)"
   ]
  },
  {
   "cell_type": "code",
   "execution_count": 43,
   "metadata": {},
   "outputs": [],
   "source": [
    "# Fix yyyy format column\n",
    "date_fix[2]=date_fix[2].astype(int)\n",
    "# iterate over value and create yyyy\n",
    "for k, v in date_fix[2].iteritems():\n",
    "    if v in range(0, 22):\n",
    "        date_fix[2].iloc[k]=v+2000\n",
    "    else:\n",
    "        date_fix[2].iloc[k]=v+1900\n",
    "       \n",
    "date_fix[2]=date_fix[2].astype(str)"
   ]
  },
  {
   "cell_type": "code",
   "execution_count": 44,
   "metadata": {},
   "outputs": [
    {
     "data": {
      "text/plain": [
       "'20150609'"
      ]
     },
     "execution_count": 44,
     "metadata": {},
     "output_type": "execute_result"
    }
   ],
   "source": [
    "# bring the dates back together\n",
    "date_fix['new']= date_fix[2]+date_fix[0]+date_fix[1]\n",
    "# view one of the rows\n",
    "date_fix['new'][9]"
   ]
  },
  {
   "cell_type": "code",
   "execution_count": 45,
   "metadata": {},
   "outputs": [
    {
     "data": {
      "text/plain": [
       "<bound method Series.info of 0       2015-06-09\n",
       "1       2015-05-13\n",
       "2       2015-03-18\n",
       "3       2015-12-15\n",
       "4       2015-04-01\n",
       "           ...    \n",
       "10861   1966-06-15\n",
       "10862   1966-12-21\n",
       "10863   1966-01-01\n",
       "10864   1966-11-02\n",
       "10865   1966-11-15\n",
       "Name: new, Length: 10866, dtype: datetime64[ns]>"
      ]
     },
     "execution_count": 45,
     "metadata": {},
     "output_type": "execute_result"
    }
   ],
   "source": [
    "# change new column to datetime format\n",
    "date_new=pd.to_datetime(date_fix['new'])\n",
    "date_new.info"
   ]
  },
  {
   "cell_type": "code",
   "execution_count": 46,
   "metadata": {},
   "outputs": [
    {
     "data": {
      "text/plain": [
       "0       2015-06-09\n",
       "1       2015-05-13\n",
       "2       2015-03-18\n",
       "3       2015-12-15\n",
       "4       2015-04-01\n",
       "           ...    \n",
       "10861   1966-06-15\n",
       "10862   1966-12-21\n",
       "10863   1966-01-01\n",
       "10864   1966-11-02\n",
       "10865   1966-11-15\n",
       "Name: release_date, Length: 10866, dtype: datetime64[ns]"
      ]
     },
     "execution_count": 46,
     "metadata": {},
     "output_type": "execute_result"
    }
   ],
   "source": [
    "# replace release date column in new datetime format\n",
    "mdf['release_date']=date_new\n",
    "mdf['release_date']"
   ]
  },
  {
   "cell_type": "code",
   "execution_count": 47,
   "metadata": {},
   "outputs": [
    {
     "name": "stdout",
     "output_type": "stream",
     "text": [
      "<class 'pandas.core.frame.DataFrame'>\n",
      "RangeIndex: 10866 entries, 0 to 10865\n",
      "Data columns (total 33 columns):\n",
      " #   Column                Non-Null Count  Dtype         \n",
      "---  ------                --------------  -----         \n",
      " 0   popularity            10866 non-null  float64       \n",
      " 1   original_title        10866 non-null  object        \n",
      " 2   director              10822 non-null  object        \n",
      " 3   runtime               10866 non-null  int64         \n",
      " 4   production_companies  10866 non-null  object        \n",
      " 5   release_date          10866 non-null  datetime64[ns]\n",
      " 6   vote_count            10866 non-null  int64         \n",
      " 7   vote_average          10866 non-null  float64       \n",
      " 8   release_year          10866 non-null  int64         \n",
      " 9   budget_adj            10866 non-null  float64       \n",
      " 10  revenue_adj           10866 non-null  float64       \n",
      " 11  net_adj               10866 non-null  float64       \n",
      " 12  tv_movie              10866 non-null  int64         \n",
      " 13  science_fiction       10866 non-null  int64         \n",
      " 14  fantasy               10866 non-null  int64         \n",
      " 15  history               10866 non-null  int64         \n",
      " 16  foreign               10866 non-null  int64         \n",
      " 17  documentary           10866 non-null  int64         \n",
      " 18  horror                10866 non-null  int64         \n",
      " 19  drama                 10866 non-null  int64         \n",
      " 20  music                 10866 non-null  int64         \n",
      " 21  adventure             10866 non-null  int64         \n",
      " 22  crime                 10866 non-null  int64         \n",
      " 23  action                10866 non-null  int64         \n",
      " 24  western               10866 non-null  int64         \n",
      " 25  family                10866 non-null  int64         \n",
      " 26  no_genre              10866 non-null  int64         \n",
      " 27  war                   10866 non-null  int64         \n",
      " 28  comedy                10866 non-null  int64         \n",
      " 29  thriller              10866 non-null  int64         \n",
      " 30  mystery               10866 non-null  int64         \n",
      " 31  animation             10866 non-null  int64         \n",
      " 32  romance               10866 non-null  int64         \n",
      "dtypes: datetime64[ns](1), float64(5), int64(24), object(3)\n",
      "memory usage: 2.7+ MB\n"
     ]
    }
   ],
   "source": [
    "# dataframe check\n",
    "mdf.info()"
   ]
  },
  {
   "cell_type": "code",
   "execution_count": 48,
   "metadata": {},
   "outputs": [
    {
     "name": "stdout",
     "output_type": "stream",
     "text": [
      "<class 'pandas.core.frame.DataFrame'>\n",
      "Int64Index: 10822 entries, 0 to 10865\n",
      "Data columns (total 33 columns):\n",
      " #   Column                Non-Null Count  Dtype         \n",
      "---  ------                --------------  -----         \n",
      " 0   popularity            10822 non-null  float64       \n",
      " 1   original_title        10822 non-null  object        \n",
      " 2   director              10822 non-null  object        \n",
      " 3   runtime               10822 non-null  int64         \n",
      " 4   production_companies  10822 non-null  object        \n",
      " 5   release_date          10822 non-null  datetime64[ns]\n",
      " 6   vote_count            10822 non-null  int64         \n",
      " 7   vote_average          10822 non-null  float64       \n",
      " 8   release_year          10822 non-null  int64         \n",
      " 9   budget_adj            10822 non-null  float64       \n",
      " 10  revenue_adj           10822 non-null  float64       \n",
      " 11  net_adj               10822 non-null  float64       \n",
      " 12  tv_movie              10822 non-null  int64         \n",
      " 13  science_fiction       10822 non-null  int64         \n",
      " 14  fantasy               10822 non-null  int64         \n",
      " 15  history               10822 non-null  int64         \n",
      " 16  foreign               10822 non-null  int64         \n",
      " 17  documentary           10822 non-null  int64         \n",
      " 18  horror                10822 non-null  int64         \n",
      " 19  drama                 10822 non-null  int64         \n",
      " 20  music                 10822 non-null  int64         \n",
      " 21  adventure             10822 non-null  int64         \n",
      " 22  crime                 10822 non-null  int64         \n",
      " 23  action                10822 non-null  int64         \n",
      " 24  western               10822 non-null  int64         \n",
      " 25  family                10822 non-null  int64         \n",
      " 26  no_genre              10822 non-null  int64         \n",
      " 27  war                   10822 non-null  int64         \n",
      " 28  comedy                10822 non-null  int64         \n",
      " 29  thriller              10822 non-null  int64         \n",
      " 30  mystery               10822 non-null  int64         \n",
      " 31  animation             10822 non-null  int64         \n",
      " 32  romance               10822 non-null  int64         \n",
      "dtypes: datetime64[ns](1), float64(5), int64(24), object(3)\n",
      "memory usage: 2.8+ MB\n"
     ]
    }
   ],
   "source": [
    "# drop null values for director\n",
    "# Drop rows if value in director column is null\n",
    "mdf=mdf.dropna(subset=['director'])\n",
    "mdf.info()"
   ]
  },
  {
   "cell_type": "code",
   "execution_count": 49,
   "metadata": {},
   "outputs": [
    {
     "name": "stdout",
     "output_type": "stream",
     "text": [
      "column name and column length validation failed\n",
      "Following File columns are not in the YAML file []\n",
      "Following YAML columns are not in the file uploaded ['holiday', 'release_day', 'release_year_groups']\n"
     ]
    },
    {
     "data": {
      "text/plain": [
       "0"
      ]
     },
     "execution_count": 49,
     "metadata": {},
     "output_type": "execute_result"
    }
   ],
   "source": [
    "col_val(mdf)"
   ]
  },
  {
   "cell_type": "code",
   "execution_count": 50,
   "metadata": {},
   "outputs": [
    {
     "name": "stdout",
     "output_type": "stream",
     "text": [
      "SchemaErrors:      schema_context column                check check_number  \\\n",
      "0  DataFrameSchema   None  column_in_dataframe         None   \n",
      "1  DataFrameSchema   None  column_in_dataframe         None   \n",
      "2  DataFrameSchema   None  column_in_dataframe         None   \n",
      "\n",
      "          failure_case index  \n",
      "0          release_day  None  \n",
      "1              holiday  None  \n",
      "2  release_year_groups  None  \n"
     ]
    }
   ],
   "source": [
    "# run datatype validation\n",
    "dtype_val(mdf)"
   ]
  },
  {
   "cell_type": "code",
   "execution_count": 51,
   "metadata": {},
   "outputs": [],
   "source": [
    "# New release day column, indicates day of the week the movie was released\n",
    "mdf['release_day']=pd.to_datetime(mdf['release_date']).dt.day_name()"
   ]
  },
  {
   "cell_type": "code",
   "execution_count": 52,
   "metadata": {},
   "outputs": [],
   "source": [
    "# Create holiday column to indicate if the release day was a holiday\n",
    "from pandas.tseries.holiday import USFederalHolidayCalendar as calendar\n",
    "cal=calendar()\n",
    "holidays=cal.holidays(start=mdf['release_date'].min(), end=mdf['release_date'].max())\n",
    "mdf['holiday'] = mdf['release_date'].isin(holidays)"
   ]
  },
  {
   "cell_type": "code",
   "execution_count": 53,
   "metadata": {},
   "outputs": [
    {
     "data": {
      "text/plain": [
       "False    10420\n",
       "True       402\n",
       "Name: holiday, dtype: int64"
      ]
     },
     "execution_count": 53,
     "metadata": {},
     "output_type": "execute_result"
    }
   ],
   "source": [
    "# just curious, checkout holiday count\n",
    "mdf['holiday'].value_counts()"
   ]
  },
  {
   "cell_type": "code",
   "execution_count": 54,
   "metadata": {},
   "outputs": [
    {
     "data": {
      "text/plain": [
       "0        (2010.0, 2015.0]\n",
       "1        (2010.0, 2015.0]\n",
       "2        (2010.0, 2015.0]\n",
       "3        (2010.0, 2015.0]\n",
       "4        (2010.0, 2015.0]\n",
       "               ...       \n",
       "10861    (1965.0, 1970.0]\n",
       "10862    (1965.0, 1970.0]\n",
       "10863    (1965.0, 1970.0]\n",
       "10864    (1965.0, 1970.0]\n",
       "10865    (1965.0, 1970.0]\n",
       "Name: release_year_groups, Length: 10822, dtype: category\n",
       "Categories (11, interval[float64, right]): [(1959.945, 1965.0] < (1965.0, 1970.0] < (1970.0, 1975.0] < (1975.0, 1980.0] ... (1995.0, 2000.0] < (2000.0, 2005.0] < (2005.0, 2010.0] < (2010.0, 2015.0]]"
      ]
     },
     "execution_count": 54,
     "metadata": {},
     "output_type": "execute_result"
    }
   ],
   "source": [
    "# Add release year grouping, evey 5 years\n",
    "mdf['release_year_groups'] = pd.cut(mdf['release_year'], 11)\n",
    "mdf['release_year_groups']"
   ]
  },
  {
   "cell_type": "code",
   "execution_count": 55,
   "metadata": {},
   "outputs": [
    {
     "name": "stdout",
     "output_type": "stream",
     "text": [
      "column name and column length validation failed\n",
      "Following File columns are not in the YAML file []\n",
      "Following YAML columns are not in the file uploaded []\n"
     ]
    },
    {
     "data": {
      "text/plain": [
       "0"
      ]
     },
     "execution_count": 55,
     "metadata": {},
     "output_type": "execute_result"
    }
   ],
   "source": [
    "# columns check\n",
    "col_val(mdf)"
   ]
  },
  {
   "cell_type": "code",
   "execution_count": 56,
   "metadata": {},
   "outputs": [
    {
     "name": "stdout",
     "output_type": "stream",
     "text": [
      "       popularity                original_title            director  runtime  \\\n",
      "0       32.985763                Jurassic World     Colin Trevorrow      124   \n",
      "1       28.419936            Mad Max: Fury Road       George Miller      120   \n",
      "2       13.112507                     Insurgent    Robert Schwentke      119   \n",
      "3       11.173104  Star Wars: The Force Awakens         J.J. Abrams      136   \n",
      "4        9.335014                     Furious 7           James Wan      137   \n",
      "...           ...                           ...                 ...      ...   \n",
      "10861    0.080598            The Endless Summer         Bruce Brown       95   \n",
      "10862    0.065543                    Grand Prix  John Frankenheimer      176   \n",
      "10863    0.065141           Beregis Avtomobilya      Eldar Ryazanov       94   \n",
      "10864    0.064317        What's Up, Tiger Lily?         Woody Allen       80   \n",
      "10865    0.035919      Manos: The Hands of Fate    Harold P. Warren       74   \n",
      "\n",
      "                                    production_companies release_date  \\\n",
      "0      Universal Studios,Amblin Entertainment,Legenda...   2015-06-09   \n",
      "1      Village Roadshow Pictures,Kennedy Miller Produ...   2015-05-13   \n",
      "2      Summit Entertainment,Mandeville Films,Red Wago...   2015-03-18   \n",
      "3              Lucasfilm,Truenorth Productions,Bad Robot   2015-12-15   \n",
      "4      Universal Pictures,Original Film,Media Rights ...   2015-04-01   \n",
      "...                                                  ...          ...   \n",
      "10861                                  Bruce Brown Films   1966-06-15   \n",
      "10862  Cherokee Productions,Joel Productions,Douglas ...   1966-12-21   \n",
      "10863                                            Mosfilm   1966-01-01   \n",
      "10864                            Benedict Pictures Corp.   1966-11-02   \n",
      "10865                                          Norm-Iris   1966-11-15   \n",
      "\n",
      "       vote_count  vote_average  release_year    budget_adj  ...  no_genre  \\\n",
      "0            5562           6.5          2015  1.379999e+08  ...         0   \n",
      "1            6185           7.1          2015  1.379999e+08  ...         0   \n",
      "2            2480           6.3          2015  1.012000e+08  ...         0   \n",
      "3            5292           7.5          2015  1.839999e+08  ...         0   \n",
      "4            2947           7.3          2015  1.747999e+08  ...         0   \n",
      "...           ...           ...           ...           ...  ...       ...   \n",
      "10861          11           7.4          1966  0.000000e+00  ...         0   \n",
      "10862          20           5.7          1966  0.000000e+00  ...         0   \n",
      "10863          11           6.5          1966  0.000000e+00  ...         0   \n",
      "10864          22           5.4          1966  0.000000e+00  ...         0   \n",
      "10865          15           1.5          1966  1.276423e+05  ...         0   \n",
      "\n",
      "       war  comedy  thriller  mystery  animation  romance  release_day  \\\n",
      "0        0       0         1        0          0        0      Tuesday   \n",
      "1        0       0         1        0          0        0    Wednesday   \n",
      "2        0       0         1        0          0        0    Wednesday   \n",
      "3        0       0         0        0          0        0      Tuesday   \n",
      "4        0       0         1        0          0        0    Wednesday   \n",
      "...    ...     ...       ...      ...        ...      ...          ...   \n",
      "10861    0       0         0        0          0        0    Wednesday   \n",
      "10862    0       0         0        0          0        0    Wednesday   \n",
      "10863    0       1         0        1          0        0     Saturday   \n",
      "10864    0       1         0        0          0        0    Wednesday   \n",
      "10865    0       0         0        0          0        0      Tuesday   \n",
      "\n",
      "       holiday  release_year_groups  \n",
      "0        False     (2010.0, 2015.0]  \n",
      "1        False     (2010.0, 2015.0]  \n",
      "2        False     (2010.0, 2015.0]  \n",
      "3        False     (2010.0, 2015.0]  \n",
      "4        False     (2010.0, 2015.0]  \n",
      "...        ...                  ...  \n",
      "10861    False     (1965.0, 1970.0]  \n",
      "10862    False     (1965.0, 1970.0]  \n",
      "10863    False     (1965.0, 1970.0]  \n",
      "10864    False     (1965.0, 1970.0]  \n",
      "10865    False     (1965.0, 1970.0]  \n",
      "\n",
      "[10822 rows x 36 columns]\n"
     ]
    }
   ],
   "source": [
    "# run datatype validation\n",
    "dtype_val(mdf)"
   ]
  },
  {
   "cell_type": "code",
   "execution_count": 57,
   "metadata": {},
   "outputs": [],
   "source": [
    "# put reshaped dataframe into out.csv\n",
    "mdf.to_csv('out.csv')"
   ]
  },
  {
   "cell_type": "code",
   "execution_count": 58,
   "metadata": {},
   "outputs": [
    {
     "data": {
      "text/plain": [
       "Index(['popularity', 'original_title', 'director', 'runtime',\n",
       "       'production_companies', 'release_date', 'vote_count', 'vote_average',\n",
       "       'release_year', 'budget_adj', 'revenue_adj', 'net_adj', 'tv_movie',\n",
       "       'science_fiction', 'fantasy', 'history', 'foreign', 'documentary',\n",
       "       'horror', 'drama', 'music', 'adventure', 'crime', 'action', 'western',\n",
       "       'family', 'no_genre', 'war', 'comedy', 'thriller', 'mystery',\n",
       "       'animation', 'romance', 'release_day', 'holiday',\n",
       "       'release_year_groups'],\n",
       "      dtype='object')"
      ]
     },
     "execution_count": 58,
     "metadata": {},
     "output_type": "execute_result"
    }
   ],
   "source": [
    "# read new out csv file, view columns\n",
    "out=pd.read_csv('out.csv', index_col=[0])\n",
    "out.columns"
   ]
  },
  {
   "cell_type": "markdown",
   "metadata": {},
   "source": [
    "## Visualizing  and Analyzing the Movies Dataset\n",
    "\n",
    "- What 5 year period were the most films released?\n",
    "- Are some genres more popular per 5 years? \n",
    "- What is the most common day of the week that a movie is released? \n",
    "- Do movies generate more revenue if they are released certain days or on a holiday?"
   ]
  },
  {
   "cell_type": "code",
   "execution_count": 59,
   "metadata": {},
   "outputs": [],
   "source": [
    "import pandas as pd\n",
    "import numpy as np\n",
    "import matplotlib.pyplot as plt\n",
    "import seaborn as sns\n",
    "%run group.py\n",
    "df=pd.read_csv('out.csv')"
   ]
  },
  {
   "cell_type": "markdown",
   "metadata": {},
   "source": [
    "Most movies are released in 2010-2015"
   ]
  },
  {
   "cell_type": "code",
   "execution_count": 60,
   "metadata": {},
   "outputs": [
    {
     "data": {
      "image/png": "[encoded data removed]",
      "text/plain": [
       "<Figure size 432x288 with 1 Axes>"
      ]
     },
     "metadata": {
      "needs_background": "light"
     },
     "output_type": "display_data"
    }
   ],
   "source": [
    "# View plot of release year count\n",
    "df['release_year'].value_counts().plot(title='Number of Films Released between 1959-2015');"
   ]
  },
  {
   "cell_type": "markdown",
   "metadata": {},
   "source": [
    "2010-2015 had the most released films, 3099, for this dataset that spans 56 years."
   ]
  },
  {
   "cell_type": "code",
   "execution_count": 61,
   "metadata": {},
   "outputs": [
    {
     "data": {
      "text/plain": [
       "(2010.0, 2015.0]      3099\n",
       "(2005.0, 2010.0]      2343\n",
       "(2000.0, 2005.0]      1460\n",
       "(1995.0, 2000.0]      1056\n",
       "(1990.0, 1995.0]       802\n",
       "(1985.0, 1990.0]       659\n",
       "(1980.0, 1985.0]       456\n",
       "(1975.0, 1980.0]       304\n",
       "(1970.0, 1975.0]       241\n",
       "(1959.945, 1965.0]     206\n",
       "(1965.0, 1970.0]       196\n",
       "Name: release_year_groups, dtype: int64"
      ]
     },
     "execution_count": 61,
     "metadata": {},
     "output_type": "execute_result"
    }
   ],
   "source": [
    "df['release_year_groups'].value_counts()"
   ]
  },
  {
   "cell_type": "code",
   "execution_count": 62,
   "metadata": {},
   "outputs": [
    {
     "data": {
      "image/png": "[encoded data removed]",
      "text/plain": [
       "<Figure size 504x504 with 1 Axes>"
      ]
     },
     "metadata": {},
     "output_type": "display_data"
    }
   ],
   "source": [
    "df['release_year_groups'].value_counts().plot.pie(title='Film % totals: 5 Year Groups',figsize=(7, 7),autopct='%1.1f%%', label='');"
   ]
  },
  {
   "cell_type": "markdown",
   "metadata": {},
   "source": [
    "### Movie Genre Analysis\n",
    "Note: All movie genres, per movie, were included with this analysis."
   ]
  },
  {
   "cell_type": "code",
   "execution_count": 63,
   "metadata": {},
   "outputs": [
    {
     "data": {
      "text/plain": [
       "['(2010.0, 2015.0]',\n",
       " '(1975.0, 1980.0]',\n",
       " '(2005.0, 2010.0]',\n",
       " '(1995.0, 2000.0]',\n",
       " '(2000.0, 2005.0]',\n",
       " '(1990.0, 1995.0]',\n",
       " '(1980.0, 1985.0]',\n",
       " '(1970.0, 1975.0]',\n",
       " '(1985.0, 1990.0]',\n",
       " '(1965.0, 1970.0]',\n",
       " '(1959.945, 1965.0]']"
      ]
     },
     "execution_count": 63,
     "metadata": {},
     "output_type": "execute_result"
    }
   ],
   "source": [
    "# get lists of unique genres and unique 5 year groups\n",
    "genres_list=['action','adventure','animation','comedy','crime','documentary','drama','family','fantasy','foreign','history','horror','music','mystery','romance','science_fiction','tv_movie','thriller','war','western']\n",
    "release_year_groups_list=df['release_year_groups'].unique().tolist()\n",
    "release_year_groups_list"
   ]
  },
  {
   "cell_type": "markdown",
   "metadata": {},
   "source": [
    "### Genre-year category analysis"
   ]
  },
  {
   "cell_type": "code",
   "execution_count": 64,
   "metadata": {},
   "outputs": [],
   "source": [
    "# get function to make year-genre dataframes\n",
    "def dict(yrgp):\n",
    "    d=[]\n",
    "    for g in genres_list:\n",
    "        sum=df.loc[df['release_year_groups']==yrgp][g].sum()\n",
    "        d.append({\n",
    "            'year category': yrgp, 'genre': g, 'sums': sum\n",
    "        })\n",
    "    return pd.DataFrame(d)\n",
    "    "
   ]
  },
  {
   "cell_type": "code",
   "execution_count": 65,
   "metadata": {},
   "outputs": [],
   "source": [
    "# make a list of dataframes\n",
    "dlist = [ dict(yrgp) for yrgp in release_year_groups_list]\n"
   ]
  },
  {
   "cell_type": "markdown",
   "metadata": {},
   "source": [
    "### Drama was the most common type of genre film made in all year categories except for 1985-1990, which was Comedy."
   ]
  },
  {
   "cell_type": "code",
   "execution_count": 66,
   "metadata": {},
   "outputs": [
    {
     "name": "stdout",
     "output_type": "stream",
     "text": [
      "(2010.0, 2015.0] most common genre: drama\n",
      "(1975.0, 1980.0] most common genre: drama\n",
      "(2005.0, 2010.0] most common genre: drama\n",
      "(1995.0, 2000.0] most common genre: drama\n",
      "(2000.0, 2005.0] most common genre: drama\n",
      "(1990.0, 1995.0] most common genre: drama\n",
      "(1980.0, 1985.0] most common genre: drama\n",
      "(1970.0, 1975.0] most common genre: drama\n",
      "(1985.0, 1990.0] most common genre: comedy\n",
      "(1965.0, 1970.0] most common genre: drama\n",
      "(1959.945, 1965.0] most common genre: drama\n"
     ]
    },
    {
     "data": {
      "image/png": "[encoded data removed]",
      "text/plain": [
       "<Figure size 432x288 with 1 Axes>"
      ]
     },
     "metadata": {
      "needs_background": "light"
     },
     "output_type": "display_data"
    },
    {
     "data": {
      "image/png": "[encoded data removed]",
      "text/plain": [
       "<Figure size 432x288 with 1 Axes>"
      ]
     },
     "metadata": {
      "needs_background": "light"
     },
     "output_type": "display_data"
    },
    {
     "data": {
      "image/png": "[encoded data removed]",
      "text/plain": [
       "<Figure size 432x288 with 1 Axes>"
      ]
     },
     "metadata": {
      "needs_background": "light"
     },
     "output_type": "display_data"
    },
    {
     "data": {
      "image/png": "[encoded data removed]",
      "text/plain": [
       "<Figure size 432x288 with 1 Axes>"
      ]
     },
     "metadata": {
      "needs_background": "light"
     },
     "output_type": "display_data"
    },
    {
     "data": {
      "image/png": "[encoded data removed]",
      "text/plain": [
       "<Figure size 432x288 with 1 Axes>"
      ]
     },
     "metadata": {
      "needs_background": "light"
     },
     "output_type": "display_data"
    },
    {
     "data": {
      "image/png": "[encoded data removed]",
      "text/plain": [
       "<Figure size 432x288 with 1 Axes>"
      ]
     },
     "metadata": {
      "needs_background": "light"
     },
     "output_type": "display_data"
    },
    {
     "data": {
      "image/png": "[encoded data removed]",
      "text/plain": [
       "<Figure size 432x288 with 1 Axes>"
      ]
     },
     "metadata": {
      "needs_background": "light"
     },
     "output_type": "display_data"
    },
    {
     "data": {
      "image/png": "[encoded data removed]",
      "text/plain": [
       "<Figure size 432x288 with 1 Axes>"
      ]
     },
     "metadata": {
      "needs_background": "light"
     },
     "output_type": "display_data"
    },
    {
     "data": {
      "image/png": "[encoded data removed]",
      "text/plain": [
       "<Figure size 432x288 with 1 Axes>"
      ]
     },
     "metadata": {
      "needs_background": "light"
     },
     "output_type": "display_data"
    },
    {
     "data": {
      "image/png": "[encoded data removed]",
      "text/plain": [
       "<Figure size 432x288 with 1 Axes>"
      ]
     },
     "metadata": {
      "needs_background": "light"
     },
     "output_type": "display_data"
    },
    {
     "data": {
      "image/png": "[encoded data removed]",
      "text/plain": [
       "<Figure size 432x288 with 1 Axes>"
      ]
     },
     "metadata": {
      "needs_background": "light"
     },
     "output_type": "display_data"
    }
   ],
   "source": [
    "# Genreate bar charts for most common genre per year category\n",
    "i=0\n",
    "for d in dlist:\n",
    "    title=dlist[i]['year category'][1]\n",
    "    max=d['genre'][d['sums'].idxmax()]\n",
    "    dlist[i].plot(kind='bar', x='genre', y='sums', title=title);\n",
    "    print(f'{title} most common genre: {max}')\n",
    "    i=i+1"
   ]
  },
  {
   "cell_type": "markdown",
   "metadata": {},
   "source": [
    "### Finding Genre best appearance per year"
   ]
  },
  {
   "cell_type": "code",
   "execution_count": 74,
   "metadata": {},
   "outputs": [],
   "source": [
    "# max number of movies released per genre \n",
    "row_list=[max_genre_by_year(g) for g in genres_list]\n",
    "genre_max=pd.DataFrame(row_list, columns=['genres', 'max_released', 'release year'])"
   ]
  },
  {
   "cell_type": "markdown",
   "metadata": {},
   "source": [
    "Year Categories 2010-2015, 2005-2010, 1965-1970 are where we find genre best appearance years."
   ]
  },
  {
   "cell_type": "code",
   "execution_count": 75,
   "metadata": {},
   "outputs": [
    {
     "data": {
      "image/png": "[encoded data removed]",
      "text/plain": [
       "<Figure size 432x288 with 1 Axes>"
      ]
     },
     "metadata": {},
     "output_type": "display_data"
    }
   ],
   "source": [
    "genre_max_s=genre_max.groupby(['release year']).size()\n",
    "genre_max_s.plot.pie(title='Max Movies made per Genre/5 Years', label='');"
   ]
  },
  {
   "cell_type": "markdown",
   "metadata": {},
   "source": [
    "- 14 Genres had most appearacnes between 2010-2015"
   ]
  },
  {
   "cell_type": "code",
   "execution_count": 69,
   "metadata": {},
   "outputs": [
    {
     "data": {
      "text/html": [
       "<div>\n",
       "<style scoped>\n",
       "    .dataframe tbody tr th:only-of-type {\n",
       "        vertical-align: middle;\n",
       "    }\n",
       "\n",
       "    .dataframe tbody tr th {\n",
       "        vertical-align: top;\n",
       "    }\n",
       "\n",
       "    .dataframe thead th {\n",
       "        text-align: right;\n",
       "    }\n",
       "</style>\n",
       "<table border=\"1\" class=\"dataframe\">\n",
       "  <thead>\n",
       "    <tr style=\"text-align: right;\">\n",
       "      <th></th>\n",
       "      <th>genres</th>\n",
       "      <th>max_released</th>\n",
       "      <th>release year</th>\n",
       "    </tr>\n",
       "  </thead>\n",
       "  <tbody>\n",
       "    <tr>\n",
       "      <th>0</th>\n",
       "      <td>action</td>\n",
       "      <td>569</td>\n",
       "      <td>(2010.0, 2015.0]</td>\n",
       "    </tr>\n",
       "    <tr>\n",
       "      <th>1</th>\n",
       "      <td>adventure</td>\n",
       "      <td>313</td>\n",
       "      <td>(2010.0, 2015.0]</td>\n",
       "    </tr>\n",
       "    <tr>\n",
       "      <th>2</th>\n",
       "      <td>animation</td>\n",
       "      <td>202</td>\n",
       "      <td>(2010.0, 2015.0]</td>\n",
       "    </tr>\n",
       "    <tr>\n",
       "      <th>3</th>\n",
       "      <td>comedy</td>\n",
       "      <td>864</td>\n",
       "      <td>(2010.0, 2015.0]</td>\n",
       "    </tr>\n",
       "    <tr>\n",
       "      <th>4</th>\n",
       "      <td>crime</td>\n",
       "      <td>289</td>\n",
       "      <td>(2010.0, 2015.0]</td>\n",
       "    </tr>\n",
       "    <tr>\n",
       "      <th>5</th>\n",
       "      <td>documentary</td>\n",
       "      <td>282</td>\n",
       "      <td>(2010.0, 2015.0]</td>\n",
       "    </tr>\n",
       "    <tr>\n",
       "      <th>6</th>\n",
       "      <td>drama</td>\n",
       "      <td>1243</td>\n",
       "      <td>(2010.0, 2015.0]</td>\n",
       "    </tr>\n",
       "    <tr>\n",
       "      <th>11</th>\n",
       "      <td>horror</td>\n",
       "      <td>514</td>\n",
       "      <td>(2010.0, 2015.0]</td>\n",
       "    </tr>\n",
       "    <tr>\n",
       "      <th>12</th>\n",
       "      <td>music</td>\n",
       "      <td>129</td>\n",
       "      <td>(2010.0, 2015.0]</td>\n",
       "    </tr>\n",
       "    <tr>\n",
       "      <th>13</th>\n",
       "      <td>mystery</td>\n",
       "      <td>187</td>\n",
       "      <td>(2010.0, 2015.0]</td>\n",
       "    </tr>\n",
       "    <tr>\n",
       "      <th>15</th>\n",
       "      <td>science_fiction</td>\n",
       "      <td>317</td>\n",
       "      <td>(2010.0, 2015.0]</td>\n",
       "    </tr>\n",
       "    <tr>\n",
       "      <th>16</th>\n",
       "      <td>tv_movie</td>\n",
       "      <td>65</td>\n",
       "      <td>(2010.0, 2015.0]</td>\n",
       "    </tr>\n",
       "    <tr>\n",
       "      <th>17</th>\n",
       "      <td>thriller</td>\n",
       "      <td>831</td>\n",
       "      <td>(2010.0, 2015.0]</td>\n",
       "    </tr>\n",
       "    <tr>\n",
       "      <th>18</th>\n",
       "      <td>war</td>\n",
       "      <td>58</td>\n",
       "      <td>(2010.0, 2015.0]</td>\n",
       "    </tr>\n",
       "  </tbody>\n",
       "</table>\n",
       "</div>"
      ],
      "text/plain": [
       "             genres  max_released      release year\n",
       "0            action           569  (2010.0, 2015.0]\n",
       "1         adventure           313  (2010.0, 2015.0]\n",
       "2         animation           202  (2010.0, 2015.0]\n",
       "3            comedy           864  (2010.0, 2015.0]\n",
       "4             crime           289  (2010.0, 2015.0]\n",
       "5       documentary           282  (2010.0, 2015.0]\n",
       "6             drama          1243  (2010.0, 2015.0]\n",
       "11           horror           514  (2010.0, 2015.0]\n",
       "12            music           129  (2010.0, 2015.0]\n",
       "13          mystery           187  (2010.0, 2015.0]\n",
       "15  science_fiction           317  (2010.0, 2015.0]\n",
       "16         tv_movie            65  (2010.0, 2015.0]\n",
       "17         thriller           831  (2010.0, 2015.0]\n",
       "18              war            58  (2010.0, 2015.0]"
      ]
     },
     "execution_count": 69,
     "metadata": {},
     "output_type": "execute_result"
    }
   ],
   "source": [
    "genre_max.loc[genre_max['release year']=='(2010.0, 2015.0]']"
   ]
  },
  {
   "cell_type": "markdown",
   "metadata": {},
   "source": [
    "- 5 genres, Family, Fantasy, History and Romance Genres had their best showing between 2005-2010"
   ]
  },
  {
   "cell_type": "code",
   "execution_count": 70,
   "metadata": {},
   "outputs": [
    {
     "data": {
      "text/html": [
       "<div>\n",
       "<style scoped>\n",
       "    .dataframe tbody tr th:only-of-type {\n",
       "        vertical-align: middle;\n",
       "    }\n",
       "\n",
       "    .dataframe tbody tr th {\n",
       "        vertical-align: top;\n",
       "    }\n",
       "\n",
       "    .dataframe thead th {\n",
       "        text-align: right;\n",
       "    }\n",
       "</style>\n",
       "<table border=\"1\" class=\"dataframe\">\n",
       "  <thead>\n",
       "    <tr style=\"text-align: right;\">\n",
       "      <th></th>\n",
       "      <th>genres</th>\n",
       "      <th>max_released</th>\n",
       "      <th>release year</th>\n",
       "    </tr>\n",
       "  </thead>\n",
       "  <tbody>\n",
       "    <tr>\n",
       "      <th>7</th>\n",
       "      <td>family</td>\n",
       "      <td>277</td>\n",
       "      <td>(2005.0, 2010.0]</td>\n",
       "    </tr>\n",
       "    <tr>\n",
       "      <th>8</th>\n",
       "      <td>fantasy</td>\n",
       "      <td>215</td>\n",
       "      <td>(2005.0, 2010.0]</td>\n",
       "    </tr>\n",
       "    <tr>\n",
       "      <th>9</th>\n",
       "      <td>foreign</td>\n",
       "      <td>72</td>\n",
       "      <td>(2005.0, 2010.0]</td>\n",
       "    </tr>\n",
       "    <tr>\n",
       "      <th>10</th>\n",
       "      <td>history</td>\n",
       "      <td>79</td>\n",
       "      <td>(2005.0, 2010.0]</td>\n",
       "    </tr>\n",
       "    <tr>\n",
       "      <th>14</th>\n",
       "      <td>romance</td>\n",
       "      <td>394</td>\n",
       "      <td>(2005.0, 2010.0]</td>\n",
       "    </tr>\n",
       "  </tbody>\n",
       "</table>\n",
       "</div>"
      ],
      "text/plain": [
       "     genres  max_released      release year\n",
       "7    family           277  (2005.0, 2010.0]\n",
       "8   fantasy           215  (2005.0, 2010.0]\n",
       "9   foreign            72  (2005.0, 2010.0]\n",
       "10  history            79  (2005.0, 2010.0]\n",
       "14  romance           394  (2005.0, 2010.0]"
      ]
     },
     "execution_count": 70,
     "metadata": {},
     "output_type": "execute_result"
    }
   ],
   "source": [
    "genre_max.loc[genre_max['release year']=='(2005.0, 2010.0]']"
   ]
  },
  {
   "cell_type": "markdown",
   "metadata": {},
   "source": [
    "- Western Movie Genre had it's best showing between 1965-1970"
   ]
  },
  {
   "cell_type": "code",
   "execution_count": 71,
   "metadata": {},
   "outputs": [
    {
     "data": {
      "text/html": [
       "<div>\n",
       "<style scoped>\n",
       "    .dataframe tbody tr th:only-of-type {\n",
       "        vertical-align: middle;\n",
       "    }\n",
       "\n",
       "    .dataframe tbody tr th {\n",
       "        vertical-align: top;\n",
       "    }\n",
       "\n",
       "    .dataframe thead th {\n",
       "        text-align: right;\n",
       "    }\n",
       "</style>\n",
       "<table border=\"1\" class=\"dataframe\">\n",
       "  <thead>\n",
       "    <tr style=\"text-align: right;\">\n",
       "      <th></th>\n",
       "      <th>genres</th>\n",
       "      <th>max_released</th>\n",
       "      <th>release year</th>\n",
       "    </tr>\n",
       "  </thead>\n",
       "  <tbody>\n",
       "    <tr>\n",
       "      <th>19</th>\n",
       "      <td>western</td>\n",
       "      <td>25</td>\n",
       "      <td>(1965.0, 1970.0]</td>\n",
       "    </tr>\n",
       "  </tbody>\n",
       "</table>\n",
       "</div>"
      ],
      "text/plain": [
       "     genres  max_released      release year\n",
       "19  western            25  (1965.0, 1970.0]"
      ]
     },
     "execution_count": 71,
     "metadata": {},
     "output_type": "execute_result"
    }
   ],
   "source": [
    "genre_max.loc[genre_max['release year']=='(1965.0, 1970.0]']"
   ]
  },
  {
   "cell_type": "markdown",
   "metadata": {},
   "source": [
    "## Days of Week Released and Adjusted Revenue\n",
    "- Friday is the most popular day for a movie to be released.\n",
    "- Movies released on Wednesday have highest average adjusted revenue."
   ]
  },
  {
   "cell_type": "code",
   "execution_count": 79,
   "metadata": {},
   "outputs": [
    {
     "data": {
      "image/png": "[encoded data removed]",
      "text/plain": [
       "<Figure size 432x288 with 1 Axes>"
      ]
     },
     "metadata": {
      "needs_background": "light"
     },
     "output_type": "display_data"
    }
   ],
   "source": [
    "# Get number of films released, by day of the week.\n",
    "df.groupby(['release_day']).size().plot(kind='bar', title='Number of Movies Released per Day of the Week');"
   ]
  },
  {
   "cell_type": "code",
   "execution_count": 80,
   "metadata": {},
   "outputs": [
    {
     "data": {
      "text/plain": [
       "release_day\n",
       "Friday       4.092516e+07\n",
       "Monday       4.871369e+07\n",
       "Saturday     2.155918e+07\n",
       "Sunday       3.017778e+07\n",
       "Thursday     6.991611e+07\n",
       "Tuesday      5.348069e+07\n",
       "Wednesday    8.431923e+07\n",
       "Name: revenue_adj, dtype: float64"
      ]
     },
     "execution_count": 80,
     "metadata": {},
     "output_type": "execute_result"
    }
   ],
   "source": [
    "df.groupby(['release_day'])['revenue_adj'].mean()"
   ]
  },
  {
   "cell_type": "markdown",
   "metadata": {},
   "source": [
    "### Movies released on Wednesday have highest average adjusted revenue."
   ]
  },
  {
   "cell_type": "code",
   "execution_count": 82,
   "metadata": {},
   "outputs": [
    {
     "data": {
      "image/png": "[encoded data removed]",
      "text/plain": [
       "<Figure size 432x288 with 1 Axes>"
      ]
     },
     "metadata": {
      "needs_background": "light"
     },
     "output_type": "display_data"
    }
   ],
   "source": [
    "# Plot Average Adjusted Revenueper Day of Week - Movie Release\n",
    "df.groupby(['release_day'])['revenue_adj'].mean().plot(kind='bar', title='Average Adjusted Revenue per Day of the Week');"
   ]
  },
  {
   "cell_type": "markdown",
   "metadata": {},
   "source": [
    "### Highest Adjusted Revenue Movie"
   ]
  },
  {
   "cell_type": "code",
   "execution_count": 93,
   "metadata": {},
   "outputs": [
    {
     "data": {
      "text/plain": [
       "original_title    Avatar\n",
       "Name: 1378, dtype: object"
      ]
     },
     "execution_count": 93,
     "metadata": {},
     "output_type": "execute_result"
    }
   ],
   "source": [
    "df.loc[df['revenue_adj'].idxmax(), ['original_title']]"
   ]
  },
  {
   "cell_type": "markdown",
   "metadata": {},
   "source": [
    "## Holidays\n",
    "- Most Holidays a movie was released land on Monday\n",
    "- Highest Adjusted Revenue Holiday-days are Tuesdays"
   ]
  },
  {
   "cell_type": "code",
   "execution_count": 85,
   "metadata": {},
   "outputs": [
    {
     "data": {
      "image/png": "[encoded data removed]",
      "text/plain": [
       "<Figure size 432x288 with 1 Axes>"
      ]
     },
     "metadata": {
      "needs_background": "light"
     },
     "output_type": "display_data"
    }
   ],
   "source": [
    "# Display Days of Week totlals, if it's a Holiday\n",
    "holiday=df[df['holiday']==True]\n",
    "holiday.groupby(['release_day']).size().plot(kind='bar', title='Holiday count by Week day');"
   ]
  },
  {
   "cell_type": "code",
   "execution_count": 86,
   "metadata": {},
   "outputs": [
    {
     "data": {
      "text/plain": [
       "release_day\n",
       "Friday       3.364127e+07\n",
       "Monday       2.258252e+07\n",
       "Thursday     2.833632e+07\n",
       "Tuesday      5.626396e+07\n",
       "Wednesday    3.080113e+07\n",
       "Name: revenue_adj, dtype: float64"
      ]
     },
     "execution_count": 86,
     "metadata": {},
     "output_type": "execute_result"
    }
   ],
   "source": [
    "# Determine Ave Revenue Generated on Holidays\n",
    "holiday.groupby(['release_day'])['revenue_adj'].mean()"
   ]
  },
  {
   "cell_type": "markdown",
   "metadata": {},
   "source": [
    "### Highest Adjusted Revenue Holiday-days are Tuesdays"
   ]
  },
  {
   "cell_type": "code",
   "execution_count": 87,
   "metadata": {},
   "outputs": [
    {
     "data": {
      "image/png": "[encoded data removed]",
      "text/plain": [
       "<Figure size 432x288 with 1 Axes>"
      ]
     },
     "metadata": {
      "needs_background": "light"
     },
     "output_type": "display_data"
    }
   ],
   "source": [
    "holiday.groupby(['release_day'])['revenue_adj'].mean().plot(kind='bar', title='Holiday Release Day Average Adjusted Revenue');"
   ]
  },
  {
   "cell_type": "markdown",
   "metadata": {},
   "source": [
    "Final Thoughts:\n",
    "- I was surprised that the most common movie genre is Drama\n",
    "- Movies released on Wednesday have highest average adjusted revenue was surprising too.\n",
    "- I enjoyed data collection, data cleaning, wrangling and validation the most.\n",
    "- I alos enjoy working with categorical data, and is why I chose the movie dataset."
   ]
  }
 ],
 "metadata": {
  "kernelspec": {
   "display_name": "Python 3 (ipykernel)",
   "language": "python",
   "name": "python3"
  },
  "language_info": {
   "codemirror_mode": {
    "name": "ipython",
    "version": 3
   },
   "file_extension": ".py",
   "mimetype": "text/x-python",
   "name": "python",
   "nbconvert_exporter": "python",
   "pygments_lexer": "ipython3",
   "version": "3.9.13"
  },
  "vscode": {
   "interpreter": {
    "hash": "8ad3b4ca62056b0ddf6609e8c0d475b5225220fb28d68e3e23627eb1e1c7d9eb"
   }
  }
 },
 "nbformat": 4,
 "nbformat_minor": 2
}
